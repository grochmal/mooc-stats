{
 "cells": [
  {
   "cell_type": "markdown",
   "metadata": {},
   "source": [
    "# MOOC Activity and Confidence Analysis\n",
    "\n",
    "From data on students that participated in a MOOC (Massive Open Online Course)\n",
    "we attempt to retrieve insights.\n",
    "The objective is to both: analyze the data from a run of such a MOOC,\n",
    "and also build a reasonably reusable tool to perform further\n",
    "analysis on similar data.\n",
    "We attempt to build a reasonably general data analysis tool that will\n",
    "allow a user to edit a few calls to output graphs with new relations.\n",
    "Also, we attempt to make the code robust enough so it does not\n",
    "rust too quickly with new data and new library updates.\n",
    "\n",
    "A conservative approach as to what libraries to use will\n",
    "allow for a longer life of the code.\n",
    "We only use full version libraries,\n",
    "which should hence be always backward compatible with the same major version.\n",
    "In our case any version of `numpy` 1, `pandas` 1 and `matplotlib` 3\n",
    "shall run the code without issues.\n",
    "We also avoid the `seaborn` library in order to keep the code running\n",
    "for as long as possible, the `seaborn` library still has not fully\n",
    "defined its interfaces."
   ]
  },
  {
   "cell_type": "code",
   "execution_count": 1,
   "metadata": {},
   "outputs": [
    {
     "data": {
      "text/plain": [
       "('1.18.1', '1.0.1', '3.1.3')"
      ]
     },
     "execution_count": 1,
     "metadata": {},
     "output_type": "execute_result"
    }
   ],
   "source": [
    "import numpy as np\n",
    "import pandas as pd\n",
    "import matplotlib\n",
    "import matplotlib.pyplot as plt\n",
    "%matplotlib inline\n",
    "np.__version__, pd.__version__, matplotlib.__version__"
   ]
  },
  {
   "cell_type": "markdown",
   "metadata": {},
   "source": [
    "---\n",
    "\n",
    "## Data Model\n",
    "\n",
    "In order to make the code as reusable as possible we establish a data model to follow.\n",
    "The operations on data will build a few common names which then will never be\n",
    "changed throughout the remaining of the code.\n",
    "Such discipline will allow us to reuse all analysis and graphics operations on a new\n",
    "set of data provided we can fit the new set into the same data model.\n",
    "\n",
    "The model itself will consist on a fact table called `response`,\n",
    "with one main foreign key called `student_id`,\n",
    "it represents the activity and responses of students to the activity steps.\n",
    "A second fact table called `step` will follow the same model,\n",
    "it will have the main foreign key as `student_id` as well.\n",
    "The main dimension will be called `student` and use `student_id` as its primary key.\n",
    "The `student` dimension will aggregate unto itself everything we know about each\n",
    "student from all source of data.\n",
    "Both `response` and `step` facts will contain a time dimension upon themselves\n",
    "called `week`, a numeric and ascending value to filter against.\n",
    "In the `response` fact the primary key will be the uniqueness of `student_id`,\n",
    "`week`, `step` and `question`.\n",
    "And in the `step` fact the primary key will be `student_id`, `week` and `step`.\n",
    "\n",
    "Albeit the two fact tables seem redundant to a good extent,\n",
    "the reason for the separation is that several students may\n",
    "attend the MOOC but not answer the questions.\n",
    "The `response` fact accounts for more granular information on diligent students,\n",
    "whilst the `step` fact accounts for all students,\n",
    "including students who only clicked on a few steps and gave up.\n",
    "\n",
    "There is nothing holding the uniqueness of the keys described\n",
    "since we use pandas and not a SQL database.\n",
    "The onus on verifying the uniqueness is on the user.\n",
    "We add a few sanity checks after the data processing for this purpose,\n",
    "and these shall catch a good deal of issues if such appear."
   ]
  },
  {
   "cell_type": "markdown",
   "metadata": {},
   "source": [
    "### Current Data\n",
    "\n",
    "In order to fit our data model we build the fact and dimension as follows:\n",
    "\n",
    "- `student` is built from `enrolments` data joined with the `archetype-survey`.\n",
    "  the primary key `learner_id` is renamed to `student_id`.\n",
    "\n",
    "- `response` is constructed from the `question-response` data and joined with\n",
    "  `step-activity` and aggregated `comments`.  It's foreign key `learner_id`\n",
    "  is renamed to `student_id`.\n",
    "\n",
    "- a third fact table `comment` is built from comments data and linked to the\n",
    "  `student` dimension.  The `author_id` foreign key is renamed to `student_id`\n",
    "  for the linking purpose.  This extra table is unlikely to appear in a different\n",
    "  data set hence we leave it out of the data model.  There is also no\n",
    "  uniqueness (or primary key) for this data.\n",
    "\n",
    "Note that all joins will be left joins from the `student` dimension\n",
    "onto the fact tables, thus avoiding missing data on the dimension side."
   ]
  },
  {
   "cell_type": "markdown",
   "metadata": {},
   "source": [
    "### Loading the data\n",
    "\n",
    "The names of the CSV files may differ, one must remember to verify the file names,\n",
    "which must live in the same directory as the notebook.\n",
    "The `parse_dates=` parameters are used for date and time columns,\n",
    "and allow us to work with times in an easier fashion.\n",
    "Whilst the `index_col=` takes the column with unique values,\n",
    "sometimes there is no column with unique values and sometimes\n",
    "the unique values are just meaningless `ID` numbers."
   ]
  },
  {
   "cell_type": "code",
   "execution_count": 2,
   "metadata": {},
   "outputs": [],
   "source": [
    "archetype = 'archetype-survey-responses.csv'\n",
    "remark = 'comments.csv'\n",
    "country = 'countries.csv'\n",
    "enrol = 'enrolments.csv'\n",
    "question = 'question-response.csv'\n",
    "activity = 'step-activity.csv'\n",
    "video = 'video-stats.csv'\n",
    "archetype = pd.read_csv(archetype, index_col='learner_id', parse_dates=['responded_at'])\n",
    "remark = pd.read_csv(remark, index_col='id', parse_dates=['timestamp'])\n",
    "country = pd.read_csv(country, index_col='country_code')\n",
    "enrol = pd.read_csv(enrol, index_col='learner_id', parse_dates=['enrolled_at', 'fully_participated_at'])\n",
    "question = pd.read_csv(question, parse_dates=['submitted_at'])\n",
    "activity = pd.read_csv(activity, parse_dates=['first_visited_at', 'last_completed_at'])\n",
    "video = pd.read_csv(video)"
   ]
  },
  {
   "cell_type": "markdown",
   "metadata": {},
   "source": [
    "### Sanity Checks\n",
    "\n",
    "A few assumptions are made about the data before we process it.\n",
    "Some of these sanity checks will be repeated once we transition into\n",
    "the data model specified above but the earlier we find possible issues the better.\n",
    "Each of the tests below should not fail and should return `True`.\n",
    "If that is not the case then one must go back to the files and rectify."
   ]
  },
  {
   "cell_type": "markdown",
   "metadata": {},
   "source": [
    "There is only one type of question, namely multiple choice."
   ]
  },
  {
   "cell_type": "code",
   "execution_count": 3,
   "metadata": {},
   "outputs": [
    {
     "data": {
      "text/plain": [
       "True"
      ]
     },
     "execution_count": 3,
     "metadata": {},
     "output_type": "execute_result"
    }
   ],
   "source": [
    "len(question.question_type.unique()) ==  1"
   ]
  },
  {
   "cell_type": "markdown",
   "metadata": {},
   "source": [
    "IDs for students are unique."
   ]
  },
  {
   "cell_type": "code",
   "execution_count": 4,
   "metadata": {},
   "outputs": [
    {
     "data": {
      "text/plain": [
       "True"
      ]
     },
     "execution_count": 4,
     "metadata": {},
     "output_type": "execute_result"
    }
   ],
   "source": [
    "len(enrol.index.unique()) == len(enrol)"
   ]
  },
  {
   "cell_type": "markdown",
   "metadata": {},
   "source": [
    "Indexes such as weeks and steps must be integers.\n",
    "Note that this also means that there are no null values\n",
    "as `numpy` does not allow for null integers."
   ]
  },
  {
   "cell_type": "code",
   "execution_count": 5,
   "metadata": {},
   "outputs": [
    {
     "data": {
      "text/plain": [
       "True"
      ]
     },
     "execution_count": 5,
     "metadata": {},
     "output_type": "execute_result"
    }
   ],
   "source": [
    "pd.api.types.is_integer_dtype(question.week_number)"
   ]
  },
  {
   "cell_type": "code",
   "execution_count": 6,
   "metadata": {},
   "outputs": [
    {
     "data": {
      "text/plain": [
       "True"
      ]
     },
     "execution_count": 6,
     "metadata": {},
     "output_type": "execute_result"
    }
   ],
   "source": [
    "pd.api.types.is_integer_dtype(question.step_number)"
   ]
  },
  {
   "cell_type": "code",
   "execution_count": 7,
   "metadata": {},
   "outputs": [
    {
     "data": {
      "text/plain": [
       "True"
      ]
     },
     "execution_count": 7,
     "metadata": {},
     "output_type": "execute_result"
    }
   ],
   "source": [
    "pd.api.types.is_integer_dtype(question.question_number)"
   ]
  },
  {
   "cell_type": "code",
   "execution_count": 8,
   "metadata": {},
   "outputs": [
    {
     "data": {
      "text/plain": [
       "True"
      ]
     },
     "execution_count": 8,
     "metadata": {},
     "output_type": "execute_result"
    }
   ],
   "source": [
    "pd.api.types.is_integer_dtype(activity.week_number)"
   ]
  },
  {
   "cell_type": "code",
   "execution_count": 9,
   "metadata": {},
   "outputs": [
    {
     "data": {
      "text/plain": [
       "True"
      ]
     },
     "execution_count": 9,
     "metadata": {},
     "output_type": "execute_result"
    }
   ],
   "source": [
    "pd.api.types.is_integer_dtype(activity.step_number)"
   ]
  },
  {
   "cell_type": "markdown",
   "metadata": {},
   "source": [
    "### Transform (into the Data Model)\n",
    "\n",
    "Now we can place the data we have into the data model we defined.\n",
    "The naming convention is that we will never use the same variable\n",
    "name for the loaded data and the data model table,\n",
    "this naming convention ensures that columns can be re-run\n",
    "without too much care for the order in which they are re-run."
   ]
  },
  {
   "cell_type": "markdown",
   "metadata": {},
   "source": [
    "First we build the `comment` extra fact table.\n",
    "The table is not part of the data model but its contents will prove\n",
    "useful to enrich tables from the data model itself.\n",
    "We do not do many changes to the `comment` table from the CSV file."
   ]
  },
  {
   "cell_type": "code",
   "execution_count": 10,
   "metadata": {},
   "outputs": [
    {
     "data": {
      "text/html": [
       "<div>\n",
       "<style scoped>\n",
       "    .dataframe tbody tr th:only-of-type {\n",
       "        vertical-align: middle;\n",
       "    }\n",
       "\n",
       "    .dataframe tbody tr th {\n",
       "        vertical-align: top;\n",
       "    }\n",
       "\n",
       "    .dataframe thead th {\n",
       "        text-align: right;\n",
       "    }\n",
       "</style>\n",
       "<table border=\"1\" class=\"dataframe\">\n",
       "  <thead>\n",
       "    <tr style=\"text-align: right;\">\n",
       "      <th></th>\n",
       "      <th>student_id</th>\n",
       "      <th>parent_id</th>\n",
       "      <th>week</th>\n",
       "      <th>step</th>\n",
       "      <th>text</th>\n",
       "      <th>timestamp</th>\n",
       "      <th>likes</th>\n",
       "      <th>first_reported_at</th>\n",
       "      <th>first_reported_reason</th>\n",
       "      <th>moderation_state</th>\n",
       "      <th>moderated</th>\n",
       "    </tr>\n",
       "    <tr>\n",
       "      <th>id</th>\n",
       "      <th></th>\n",
       "      <th></th>\n",
       "      <th></th>\n",
       "      <th></th>\n",
       "      <th></th>\n",
       "      <th></th>\n",
       "      <th></th>\n",
       "      <th></th>\n",
       "      <th></th>\n",
       "      <th></th>\n",
       "      <th></th>\n",
       "    </tr>\n",
       "  </thead>\n",
       "  <tbody>\n",
       "    <tr>\n",
       "      <th>59104690</th>\n",
       "      <td>0022e782-f726-4682-9a91-adb8401df949</td>\n",
       "      <td>NaN</td>\n",
       "      <td>1</td>\n",
       "      <td>1</td>\n",
       "      <td>Hello! My name is Manduhai, Mandy for short. I...</td>\n",
       "      <td>2021-05-03 06:19:13+00:00</td>\n",
       "      <td>1</td>\n",
       "      <td>NaN</td>\n",
       "      <td>NaN</td>\n",
       "      <td>NaN</td>\n",
       "      <td>NaN</td>\n",
       "    </tr>\n",
       "    <tr>\n",
       "      <th>59107936</th>\n",
       "      <td>ee7d449b-e4c5-44af-a890-61680d001828</td>\n",
       "      <td>NaN</td>\n",
       "      <td>1</td>\n",
       "      <td>1</td>\n",
       "      <td>Hello, my name is Alessandro and I've been wor...</td>\n",
       "      <td>2021-05-03 08:58:58+00:00</td>\n",
       "      <td>2</td>\n",
       "      <td>NaN</td>\n",
       "      <td>NaN</td>\n",
       "      <td>NaN</td>\n",
       "      <td>NaN</td>\n",
       "    </tr>\n",
       "    <tr>\n",
       "      <th>59110647</th>\n",
       "      <td>d8f579a6-d8a2-4842-a4ea-cf6ecfa2d101</td>\n",
       "      <td>59104690.0</td>\n",
       "      <td>1</td>\n",
       "      <td>1</td>\n",
       "      <td>Very pleased to meet you too @REDACTED - it is...</td>\n",
       "      <td>2021-05-03 10:45:09+00:00</td>\n",
       "      <td>1</td>\n",
       "      <td>NaN</td>\n",
       "      <td>NaN</td>\n",
       "      <td>NaN</td>\n",
       "      <td>NaN</td>\n",
       "    </tr>\n",
       "  </tbody>\n",
       "</table>\n",
       "</div>"
      ],
      "text/plain": [
       "                                    student_id   parent_id  week  step  \\\n",
       "id                                                                       \n",
       "59104690  0022e782-f726-4682-9a91-adb8401df949         NaN     1     1   \n",
       "59107936  ee7d449b-e4c5-44af-a890-61680d001828         NaN     1     1   \n",
       "59110647  d8f579a6-d8a2-4842-a4ea-cf6ecfa2d101  59104690.0     1     1   \n",
       "\n",
       "                                                       text  \\\n",
       "id                                                            \n",
       "59104690  Hello! My name is Manduhai, Mandy for short. I...   \n",
       "59107936  Hello, my name is Alessandro and I've been wor...   \n",
       "59110647  Very pleased to meet you too @REDACTED - it is...   \n",
       "\n",
       "                         timestamp  likes  first_reported_at  \\\n",
       "id                                                             \n",
       "59104690 2021-05-03 06:19:13+00:00      1                NaN   \n",
       "59107936 2021-05-03 08:58:58+00:00      2                NaN   \n",
       "59110647 2021-05-03 10:45:09+00:00      1                NaN   \n",
       "\n",
       "          first_reported_reason  moderation_state  moderated  \n",
       "id                                                            \n",
       "59104690                    NaN               NaN        NaN  \n",
       "59107936                    NaN               NaN        NaN  \n",
       "59110647                    NaN               NaN        NaN  "
      ]
     },
     "execution_count": 10,
     "metadata": {},
     "output_type": "execute_result"
    }
   ],
   "source": [
    "comment = remark.copy()\n",
    "comment.drop('step', axis=1, inplace=True)\n",
    "comment = comment.rename(columns={\n",
    "    'author_id': 'student_id',\n",
    "    'week_number': 'week',\n",
    "    'step_number': 'step',\n",
    "})\n",
    "comment[:3]"
   ]
  },
  {
   "cell_type": "markdown",
   "metadata": {},
   "source": [
    "And we can build the `student` dimension,\n",
    "while at the same time enrich it with data from the archetype survey\n",
    "and the step comments.\n",
    "\n",
    "The `student` dimension defines all information we have about the students,\n",
    "if more data about the students themselves becomes available we can\n",
    "further extend this table with more columns."
   ]
  },
  {
   "cell_type": "code",
   "execution_count": 11,
   "metadata": {},
   "outputs": [
    {
     "data": {
      "text/html": [
       "<div>\n",
       "<style scoped>\n",
       "    .dataframe tbody tr th:only-of-type {\n",
       "        vertical-align: middle;\n",
       "    }\n",
       "\n",
       "    .dataframe tbody tr th {\n",
       "        vertical-align: top;\n",
       "    }\n",
       "\n",
       "    .dataframe thead th {\n",
       "        text-align: right;\n",
       "    }\n",
       "</style>\n",
       "<table border=\"1\" class=\"dataframe\">\n",
       "  <thead>\n",
       "    <tr style=\"text-align: right;\">\n",
       "      <th></th>\n",
       "      <th>enrolled_at</th>\n",
       "      <th>unenrolled_at</th>\n",
       "      <th>role</th>\n",
       "      <th>fully_participated_at</th>\n",
       "      <th>purchased_statement_at</th>\n",
       "      <th>gender</th>\n",
       "      <th>country</th>\n",
       "      <th>age_range</th>\n",
       "      <th>highest_education_level</th>\n",
       "      <th>employment_status</th>\n",
       "      <th>employment_area</th>\n",
       "      <th>detected_country</th>\n",
       "      <th>unlimited</th>\n",
       "      <th>id</th>\n",
       "      <th>responded_at</th>\n",
       "      <th>archetype</th>\n",
       "      <th>total_comments</th>\n",
       "      <th>total_likes</th>\n",
       "    </tr>\n",
       "    <tr>\n",
       "      <th>student_id</th>\n",
       "      <th></th>\n",
       "      <th></th>\n",
       "      <th></th>\n",
       "      <th></th>\n",
       "      <th></th>\n",
       "      <th></th>\n",
       "      <th></th>\n",
       "      <th></th>\n",
       "      <th></th>\n",
       "      <th></th>\n",
       "      <th></th>\n",
       "      <th></th>\n",
       "      <th></th>\n",
       "      <th></th>\n",
       "      <th></th>\n",
       "      <th></th>\n",
       "      <th></th>\n",
       "      <th></th>\n",
       "    </tr>\n",
       "  </thead>\n",
       "  <tbody>\n",
       "    <tr>\n",
       "      <th>47c2add2-a127-40db-ae0e-12d2725a1a9a</th>\n",
       "      <td>2021-04-08 01:58:43+00:00</td>\n",
       "      <td>NaN</td>\n",
       "      <td>NaN</td>\n",
       "      <td>NaT</td>\n",
       "      <td>NaN</td>\n",
       "      <td>Unknown</td>\n",
       "      <td>Unknown</td>\n",
       "      <td>Unknown</td>\n",
       "      <td>Unknown</td>\n",
       "      <td>Unknown</td>\n",
       "      <td>Unknown</td>\n",
       "      <td>VN</td>\n",
       "      <td>t</td>\n",
       "      <td>16725888.0</td>\n",
       "      <td>2021-04-08 02:04:11+00:00</td>\n",
       "      <td>Flourishers</td>\n",
       "      <td>0.0</td>\n",
       "      <td>0.0</td>\n",
       "    </tr>\n",
       "    <tr>\n",
       "      <th>09fcca1f-ff80-4c38-a81d-33efa02dd132</th>\n",
       "      <td>2021-05-01 09:11:12+00:00</td>\n",
       "      <td>NaN</td>\n",
       "      <td>NaN</td>\n",
       "      <td>2021-05-25 15:58:18+00:00</td>\n",
       "      <td>NaN</td>\n",
       "      <td>Unknown</td>\n",
       "      <td>Unknown</td>\n",
       "      <td>Unknown</td>\n",
       "      <td>Unknown</td>\n",
       "      <td>Unknown</td>\n",
       "      <td>Unknown</td>\n",
       "      <td>DE</td>\n",
       "      <td>f</td>\n",
       "      <td>NaN</td>\n",
       "      <td>NaT</td>\n",
       "      <td>NaN</td>\n",
       "      <td>1.0</td>\n",
       "      <td>1.0</td>\n",
       "    </tr>\n",
       "    <tr>\n",
       "      <th>6ba452a2-dc85-4891-ab10-8e4fe1fbe1e9</th>\n",
       "      <td>2021-05-05 11:55:31+00:00</td>\n",
       "      <td>NaN</td>\n",
       "      <td>NaN</td>\n",
       "      <td>NaT</td>\n",
       "      <td>NaN</td>\n",
       "      <td>female</td>\n",
       "      <td>AT</td>\n",
       "      <td>18-25</td>\n",
       "      <td>secondary</td>\n",
       "      <td>looking_for_work</td>\n",
       "      <td>Unknown</td>\n",
       "      <td>AT</td>\n",
       "      <td>t</td>\n",
       "      <td>NaN</td>\n",
       "      <td>NaT</td>\n",
       "      <td>NaN</td>\n",
       "      <td>0.0</td>\n",
       "      <td>0.0</td>\n",
       "    </tr>\n",
       "  </tbody>\n",
       "</table>\n",
       "</div>"
      ],
      "text/plain": [
       "                                                   enrolled_at unenrolled_at  \\\n",
       "student_id                                                                     \n",
       "47c2add2-a127-40db-ae0e-12d2725a1a9a 2021-04-08 01:58:43+00:00           NaN   \n",
       "09fcca1f-ff80-4c38-a81d-33efa02dd132 2021-05-01 09:11:12+00:00           NaN   \n",
       "6ba452a2-dc85-4891-ab10-8e4fe1fbe1e9 2021-05-05 11:55:31+00:00           NaN   \n",
       "\n",
       "                                     role     fully_participated_at  \\\n",
       "student_id                                                            \n",
       "47c2add2-a127-40db-ae0e-12d2725a1a9a  NaN                       NaT   \n",
       "09fcca1f-ff80-4c38-a81d-33efa02dd132  NaN 2021-05-25 15:58:18+00:00   \n",
       "6ba452a2-dc85-4891-ab10-8e4fe1fbe1e9  NaN                       NaT   \n",
       "\n",
       "                                     purchased_statement_at   gender  country  \\\n",
       "student_id                                                                      \n",
       "47c2add2-a127-40db-ae0e-12d2725a1a9a                    NaN  Unknown  Unknown   \n",
       "09fcca1f-ff80-4c38-a81d-33efa02dd132                    NaN  Unknown  Unknown   \n",
       "6ba452a2-dc85-4891-ab10-8e4fe1fbe1e9                    NaN   female       AT   \n",
       "\n",
       "                                     age_range highest_education_level  \\\n",
       "student_id                                                               \n",
       "47c2add2-a127-40db-ae0e-12d2725a1a9a   Unknown                 Unknown   \n",
       "09fcca1f-ff80-4c38-a81d-33efa02dd132   Unknown                 Unknown   \n",
       "6ba452a2-dc85-4891-ab10-8e4fe1fbe1e9     18-25               secondary   \n",
       "\n",
       "                                     employment_status employment_area  \\\n",
       "student_id                                                               \n",
       "47c2add2-a127-40db-ae0e-12d2725a1a9a           Unknown         Unknown   \n",
       "09fcca1f-ff80-4c38-a81d-33efa02dd132           Unknown         Unknown   \n",
       "6ba452a2-dc85-4891-ab10-8e4fe1fbe1e9  looking_for_work         Unknown   \n",
       "\n",
       "                                     detected_country unlimited          id  \\\n",
       "student_id                                                                    \n",
       "47c2add2-a127-40db-ae0e-12d2725a1a9a               VN         t  16725888.0   \n",
       "09fcca1f-ff80-4c38-a81d-33efa02dd132               DE         f         NaN   \n",
       "6ba452a2-dc85-4891-ab10-8e4fe1fbe1e9               AT         t         NaN   \n",
       "\n",
       "                                                  responded_at    archetype  \\\n",
       "student_id                                                                    \n",
       "47c2add2-a127-40db-ae0e-12d2725a1a9a 2021-04-08 02:04:11+00:00  Flourishers   \n",
       "09fcca1f-ff80-4c38-a81d-33efa02dd132                       NaT          NaN   \n",
       "6ba452a2-dc85-4891-ab10-8e4fe1fbe1e9                       NaT          NaN   \n",
       "\n",
       "                                      total_comments  total_likes  \n",
       "student_id                                                         \n",
       "47c2add2-a127-40db-ae0e-12d2725a1a9a             0.0          0.0  \n",
       "09fcca1f-ff80-4c38-a81d-33efa02dd132             1.0          1.0  \n",
       "6ba452a2-dc85-4891-ab10-8e4fe1fbe1e9             0.0          0.0  "
      ]
     },
     "execution_count": 11,
     "metadata": {},
     "output_type": "execute_result"
    }
   ],
   "source": [
    "student = enrol.join(archetype)\n",
    "student = student.rename_axis('student_id')\n",
    "tmp = comment.rename(columns={'step': 'total_comments'}).groupby(['student_id']).count()['total_comments']\n",
    "student = student.join(tmp)\n",
    "student['total_comments'].fillna(0, inplace=True)\n",
    "tmp = comment.rename(columns={'likes': 'total_likes'}).groupby(['student_id']).sum()['total_likes']\n",
    "student = student.join(tmp)\n",
    "student['total_likes'].fillna(0, inplace=True)\n",
    "student[:3]"
   ]
  },
  {
   "cell_type": "markdown",
   "metadata": {},
   "source": [
    "With the `step` fact table we need to be careful to keep the uniqueness constraint we defined.\n",
    "One may suspect that the data could contain several completion times for each student.\n",
    "In order to ensure the uniqueness we defined we always take only\n",
    "the first start and completion answer given in the data.\n",
    "\n",
    "Also, we explicitly add the time it took for a student to complete the step.\n",
    "And whether there was a start and/or completion of the step at all.\n",
    "This data could be derived at any point later but for simplicity\n",
    "we keep it duplicated in the `step` fact table."
   ]
  },
  {
   "cell_type": "code",
   "execution_count": 12,
   "metadata": {},
   "outputs": [
    {
     "data": {
      "text/html": [
       "<div>\n",
       "<style scoped>\n",
       "    .dataframe tbody tr th:only-of-type {\n",
       "        vertical-align: middle;\n",
       "    }\n",
       "\n",
       "    .dataframe tbody tr th {\n",
       "        vertical-align: top;\n",
       "    }\n",
       "\n",
       "    .dataframe thead th {\n",
       "        text-align: right;\n",
       "    }\n",
       "</style>\n",
       "<table border=\"1\" class=\"dataframe\">\n",
       "  <thead>\n",
       "    <tr style=\"text-align: right;\">\n",
       "      <th></th>\n",
       "      <th>student_id</th>\n",
       "      <th>week</th>\n",
       "      <th>step</th>\n",
       "      <th>first_visited_at</th>\n",
       "      <th>last_completed_at</th>\n",
       "      <th>completion_time</th>\n",
       "      <th>started</th>\n",
       "      <th>completed</th>\n",
       "    </tr>\n",
       "  </thead>\n",
       "  <tbody>\n",
       "    <tr>\n",
       "      <th>0</th>\n",
       "      <td>0022e782-f726-4682-9a91-adb8401df949</td>\n",
       "      <td>1</td>\n",
       "      <td>1</td>\n",
       "      <td>2021-05-03 06:07:33+00:00</td>\n",
       "      <td>2021-05-03 06:19:13+00:00</td>\n",
       "      <td>700.0</td>\n",
       "      <td>True</td>\n",
       "      <td>True</td>\n",
       "    </tr>\n",
       "    <tr>\n",
       "      <th>1</th>\n",
       "      <td>0022e782-f726-4682-9a91-adb8401df949</td>\n",
       "      <td>1</td>\n",
       "      <td>2</td>\n",
       "      <td>2021-05-03 06:19:16+00:00</td>\n",
       "      <td>2021-05-03 16:12:25+00:00</td>\n",
       "      <td>35589.0</td>\n",
       "      <td>True</td>\n",
       "      <td>True</td>\n",
       "    </tr>\n",
       "    <tr>\n",
       "      <th>2</th>\n",
       "      <td>0022e782-f726-4682-9a91-adb8401df949</td>\n",
       "      <td>1</td>\n",
       "      <td>3</td>\n",
       "      <td>2021-05-03 16:12:31+00:00</td>\n",
       "      <td>2021-05-03 16:20:29+00:00</td>\n",
       "      <td>478.0</td>\n",
       "      <td>True</td>\n",
       "      <td>True</td>\n",
       "    </tr>\n",
       "  </tbody>\n",
       "</table>\n",
       "</div>"
      ],
      "text/plain": [
       "                             student_id  week  step          first_visited_at  \\\n",
       "0  0022e782-f726-4682-9a91-adb8401df949     1     1 2021-05-03 06:07:33+00:00   \n",
       "1  0022e782-f726-4682-9a91-adb8401df949     1     2 2021-05-03 06:19:16+00:00   \n",
       "2  0022e782-f726-4682-9a91-adb8401df949     1     3 2021-05-03 16:12:31+00:00   \n",
       "\n",
       "          last_completed_at  completion_time  started  completed  \n",
       "0 2021-05-03 06:19:13+00:00            700.0     True       True  \n",
       "1 2021-05-03 16:12:25+00:00          35589.0     True       True  \n",
       "2 2021-05-03 16:20:29+00:00            478.0     True       True  "
      ]
     },
     "execution_count": 12,
     "metadata": {},
     "output_type": "execute_result"
    }
   ],
   "source": [
    "step = activity.groupby(['learner_id', 'week_number', 'step_number']).first().copy()\n",
    "step.reset_index(inplace=True)\n",
    "step['completion_time'] = (step.last_completed_at - step.first_visited_at).dt.seconds\n",
    "step['started'] = (~step.first_visited_at.isnull())\n",
    "step['completed'] = (~step.last_completed_at.isnull())\n",
    "step.drop('step', axis=1,  inplace=True)\n",
    "step = step.rename(columns={\n",
    "    'learner_id': 'student_id',\n",
    "    'week_number': 'week',\n",
    "    'step_number': 'step',\n",
    "})\n",
    "step[:3]"
   ]
  },
  {
   "cell_type": "markdown",
   "metadata": {},
   "source": [
    "The `response` fact is the last one to add into the data model.\n",
    "Here the `response` column is quite messy,\n",
    "sometimes students can answer several options,\n",
    "other times they can answer the same question several times.\n",
    "Since we assume that all answers will be numbers\n",
    "we take the mean of the students' answers in every case.\n",
    "\n",
    "On top of the answers to the questions themselves we enrich\n",
    "the `response` fact with the completion steps.\n",
    "Albeit it may be redundant to check whether a student\n",
    "who has answered the questions has started and completed the same MOOC week,\n",
    "it may be useful to check the answers for students who gave up\n",
    "and not completed the following MOOC week."
   ]
  },
  {
   "cell_type": "code",
   "execution_count": 13,
   "metadata": {},
   "outputs": [
    {
     "data": {
      "text/html": [
       "<div>\n",
       "<style scoped>\n",
       "    .dataframe tbody tr th:only-of-type {\n",
       "        vertical-align: middle;\n",
       "    }\n",
       "\n",
       "    .dataframe tbody tr th {\n",
       "        vertical-align: top;\n",
       "    }\n",
       "\n",
       "    .dataframe thead th {\n",
       "        text-align: right;\n",
       "    }\n",
       "</style>\n",
       "<table border=\"1\" class=\"dataframe\">\n",
       "  <thead>\n",
       "    <tr style=\"text-align: right;\">\n",
       "      <th></th>\n",
       "      <th>student_id</th>\n",
       "      <th>week</th>\n",
       "      <th>step</th>\n",
       "      <th>question</th>\n",
       "      <th>response</th>\n",
       "      <th>started</th>\n",
       "      <th>completed</th>\n",
       "    </tr>\n",
       "  </thead>\n",
       "  <tbody>\n",
       "    <tr>\n",
       "      <th>0</th>\n",
       "      <td>0022e782-f726-4682-9a91-adb8401df949</td>\n",
       "      <td>1</td>\n",
       "      <td>3</td>\n",
       "      <td>1</td>\n",
       "      <td>2.0</td>\n",
       "      <td>True</td>\n",
       "      <td>True</td>\n",
       "    </tr>\n",
       "    <tr>\n",
       "      <th>1</th>\n",
       "      <td>0022e782-f726-4682-9a91-adb8401df949</td>\n",
       "      <td>1</td>\n",
       "      <td>3</td>\n",
       "      <td>2</td>\n",
       "      <td>4.0</td>\n",
       "      <td>True</td>\n",
       "      <td>True</td>\n",
       "    </tr>\n",
       "    <tr>\n",
       "      <th>2</th>\n",
       "      <td>0022e782-f726-4682-9a91-adb8401df949</td>\n",
       "      <td>1</td>\n",
       "      <td>3</td>\n",
       "      <td>3</td>\n",
       "      <td>5.0</td>\n",
       "      <td>True</td>\n",
       "      <td>True</td>\n",
       "    </tr>\n",
       "  </tbody>\n",
       "</table>\n",
       "</div>"
      ],
      "text/plain": [
       "                             student_id  week  step  question  response  \\\n",
       "0  0022e782-f726-4682-9a91-adb8401df949     1     3         1       2.0   \n",
       "1  0022e782-f726-4682-9a91-adb8401df949     1     3         2       4.0   \n",
       "2  0022e782-f726-4682-9a91-adb8401df949     1     3         3       5.0   \n",
       "\n",
       "   started  completed  \n",
       "0     True       True  \n",
       "1     True       True  \n",
       "2     True       True  "
      ]
     },
     "execution_count": 13,
     "metadata": {},
     "output_type": "execute_result"
    }
   ],
   "source": [
    "response = question[['learner_id', 'week_number', 'step_number', 'question_number', 'response']].copy()\n",
    "response.response = question.response.apply(lambda x: np.mean(list(map(int, x.split(',')))))\n",
    "response = response.groupby(['learner_id', 'week_number', 'step_number', 'question_number']).mean()\n",
    "response.reset_index(inplace=True)\n",
    "response = response.rename(columns={\n",
    "    'learner_id': 'student_id',\n",
    "    'week_number': 'week',\n",
    "    'step_number': 'step',\n",
    "    'question_number': 'question',\n",
    "})\n",
    "tmp = step[['student_id', 'week', 'step', 'started', 'completed']]\n",
    "response = response.merge(tmp, on=['student_id', 'week', 'step'], how='left')\n",
    "response[:3]"
   ]
  },
  {
   "cell_type": "markdown",
   "metadata": {},
   "source": [
    "The majority of the data is a time series,\n",
    "hence the majority of comparisons are best made by self joins at a different time,\n",
    "e.g. compare this week with next week.\n",
    "Self joins may be tricky to read in code,\n",
    "and it may therefore be quite difficult to change.\n",
    "There are several unneeded condition in the code that are placed\n",
    "in order to make the code robust against corner cases.\n",
    "If you are changing the code please leave theses conditions be\n",
    "no matter how obvious it seems that these are not needed for the data\n",
    "currently processed."
   ]
  },
  {
   "cell_type": "markdown",
   "metadata": {},
   "source": [
    "### Sanity Checks (on the data model)\n",
    "\n",
    "We can perform a second set of sanity check on the data model itself."
   ]
  },
  {
   "cell_type": "markdown",
   "metadata": {},
   "source": [
    "---\n",
    "\n",
    "## Assumptions to be Kept\n",
    "\n",
    "- Questions of interest will always have numeric values,\n",
    "  where the biggest value means better and the lowest means worse.\n",
    "\n",
    "- A student can only be enrolled once.\n",
    "\n",
    "- Week numbers always start from 1 and increase by 1.  TODO: Remember we may have weeks without step questions.\n",
    "\n",
    "- Comments are fully linked to weeks, not steps.  TODO: redo this!\n",
    "  TODO Number of comments vs. confidence increase\n",
    "  TODO Get comments from top 10% (scaled).\n",
    "\n",
    "- Country and Video data is not of any particular interest.\n",
    "  Note that enrollment data already detects a country,\n",
    "  which a a more reliable source.\n",
    "\n",
    "- Question of interest will always be about a students\n",
    "  confidence in himself or some course of action.\n",
    "  This allows as to make several further assumptions\n",
    "  on response aggregation.\n",
    "\n",
    "- For enrollment data we plot missing data (the \"Unknown\" statistics),\n",
    "  whilst for step completion data we do not plot the missing data.\n",
    "  This is because all students must have completed the enrollment,\n",
    "  whilst not all will have completed (or even started) the steps.\n",
    "\n",
    "## Assumptions to be Improved\n",
    "\n",
    "- The archetype questionnaire should only be answered once.\n",
    "  TODO: If a student answers the archetype questionnaire several times\n",
    "  only the last set of answer is taken into account.\n",
    "  (i.e. we force learner_id to be a PK for archetype)\n",
    "\n",
    "- Step question answers are only answered once.\n",
    "  TODO: When several answers are performed by the same student\n",
    "  we take the *mean* of the answer.  This is an assumption\n",
    "  based on the fact that we are asking about a student's confidence,\n",
    "  and a change of heart is part of our evaluation.\n",
    "\n",
    "- The scale of scatter plots is currently fixed.\n",
    "  TODO: We will add a scale parameter to control,\n",
    "  by hand, the plot outlook when needed.\n",
    "\n",
    "## Assumptions to be Removed\n",
    "\n",
    "- There is only one question of interest per week. REMOVED!  (currently 4 questions of interest but make it generic for as many)\n",
    "\n",
    "- There are only 3 weeks of MOOC.\n",
    "\n",
    "- Data sanity is assumed in the input files (we need actual sanity checks).\n",
    "\n",
    "## Notes\n",
    "\n",
    "- Take steps with only starting clicks (no completions)\n",
    "\n",
    "- Let's add stats about people who are not showing up - e.g. hobbyists.\n",
    "\n",
    "- In every **relevant** week we will gather confidence questions in one step only.\n",
    "\n",
    "- Define intermediary data model.  DATA DEPENDENT\n",
    "\n",
    "- Scramble personal info"
   ]
  },
  {
   "cell_type": "markdown",
   "metadata": {},
   "source": [
    "---\n",
    "\n",
    "# Step Completion"
   ]
  },
  {
   "cell_type": "code",
   "execution_count": 486,
   "metadata": {},
   "outputs": [
    {
     "data": {
      "image/png": "[encoded data removed]",
      "text/plain": [
       "<Figure size 1008x648 with 1 Axes>"
      ]
     },
     "metadata": {
      "needs_background": "light"
     },
     "output_type": "display_data"
    }
   ],
   "source": [
    "fig, ax = plt.subplots(figsize=(14, 9))\n",
    "completed_time = (step.last_completed_at - step.first_visited_at).dt.seconds\n",
    "three_hours = 60*60*3\n",
    "completed_time = completed_time[completed_time < three_hours]\n",
    "ax.hist(completed_time / 60, bins=64);\n",
    "ax.set_yscale('log')\n",
    "#ax.set_xlim([0, 120])"
   ]
  },
  {
   "cell_type": "code",
   "execution_count": 165,
   "metadata": {},
   "outputs": [
    {
     "data": {
      "image/png": "[encoded data removed]",
      "text/plain": [
       "<Figure size 1440x1152 with 36 Axes>"
      ]
     },
     "metadata": {
      "needs_background": "light"
     },
     "output_type": "display_data"
    }
   ],
   "source": [
    "all_steps = step.step.unique()\n",
    "completed_time = (step.last_completed_at - step.first_visited_at).dt.seconds\n",
    "three_hours = 60*60*3\n",
    "completed_time = step[completed_time < three_hours]\n",
    "fig, ax = plt.subplots(len(all_steps)//4, 4, sharex=True, sharey='row', figsize=(20, 16))\n",
    "for i, s in enumerate(all_steps):\n",
    "    this_step = completed_time[completed_time.step == s]\n",
    "    ax.flat[i].hist((this_step.last_completed_at - this_step.first_visited_at).dt.seconds / 60, bins=64)\n",
    "    ax.flat[i].set_ylabel(f'step {s}')\n",
    "    ax.flat[i].set_yscale('log')\n",
    "plt.subplots_adjust(wspace=0.5, hspace=0)"
   ]
  },
  {
   "cell_type": "code",
   "execution_count": 315,
   "metadata": {},
   "outputs": [
    {
     "data": {
      "image/png": "[encoded data removed]",
      "text/plain": [
       "<Figure size 1440x648 with 3 Axes>"
      ]
     },
     "metadata": {
      "needs_background": "light"
     },
     "output_type": "display_data"
    }
   ],
   "source": [
    "def plot_hist(step, week, ax):\n",
    "    cur_step = step[step.week_number == week]\n",
    "    next_step = step[step.week_number == week + 1][['learner_id', 'step']]\n",
    "    if len(next_step):  # hardened code, the condition is not needed but just in case\n",
    "        next_step = next_step.groupby('learner_id').count()\n",
    "        next_step.columns = ['stayed']\n",
    "        next_step['stayed'] = True\n",
    "        next_step = next_step.reset_index()\n",
    "        combined = pd.merge(cur_step, next_step, on='learner_id', how='left')\n",
    "        combined['stayed'].fillna(False, inplace=True)\n",
    "    else:\n",
    "        combined = cur_step.copy()\n",
    "        combined['stayed'] = False\n",
    "\n",
    "    completed_time = (combined.last_completed_at - combined.first_visited_at).dt.seconds\n",
    "    three_hours = 60*60*3\n",
    "    completed_time = completed_time[completed_time < three_hours]\n",
    "    _, bins, _ = ax.hist(completed_time / 60, bins=64, color='coral', alpha=.7)\n",
    "\n",
    "    stayed = combined[combined.stayed]\n",
    "    if len(stayed):  # again not needed, but leave it hardened just in case\n",
    "        completed_time = (stayed.last_completed_at - stayed.first_visited_at).dt.seconds\n",
    "        completed_time = completed_time[completed_time < three_hours]\n",
    "        _, bins, _ = ax.hist(completed_time / 60, bins=bins, color='teal', alpha=.9)\n",
    "\n",
    "    ax.set_ylabel(f'week {week}')\n",
    "    ax.set_yscale('log')\n",
    "\n",
    "n = 3\n",
    "fig, ax = plt.subplots(n, 1, sharex=True, figsize=(20, 3*n))\n",
    "plot_hist(step, 1, ax.flat[0])\n",
    "plot_hist(step, 2, ax.flat[1])\n",
    "plot_hist(step, 3, ax.flat[2])\n",
    "ax.flat[2].set_xlabel('minutes')\n",
    "plt.subplots_adjust(hspace=0)"
   ]
  },
  {
   "cell_type": "markdown",
   "metadata": {},
   "source": [
    "## Graph 1: Mean time to complete a session each week\n",
    "\n",
    "Each week (each graph) we see how many students have completed the assigned\n",
    "steps within a certain number of minutes.\n",
    "Each week less and less students complete the steps as students give up the MOOC.\n",
    "Albeit students that spend little time on the step are more likely to give\n",
    "up and not follow the next week.\n",
    "The left hand side where the completion times are small decreases fast,\n",
    "whilst the right hand side remains reasonably constant.\n",
    "\n",
    "In orange we see the students that gave up that week\n",
    "(in the last week all students give up as it is the end of the MOOC).\n",
    "In green we see the students that stayed for the following week.\n",
    "Not the vertical logarithmic scale,\n",
    "the higher on the graph a difference between orange and green is present\n",
    "the more students gave up.\n",
    "\n",
    "The graphs above this one are the same students placed in completion time bins\n",
    "but aggregated together (topmost graph) and aggregated separately per step.\n",
    "A viable hypothesis is that at the very beginning students spend time on the\n",
    "steps out of curiosity, later the time spent is likely proportional to\n",
    "the engagement of a step/session.  Notably, steps 3.7, 3.8 and 3.9\n",
    "appear to be quite engaging."
   ]
  },
  {
   "cell_type": "markdown",
   "metadata": {},
   "source": [
    "---\n",
    "\n",
    "# Quiz Responses"
   ]
  },
  {
   "cell_type": "markdown",
   "metadata": {},
   "source": [
    "Week 1 Step 3, q -> All questions\n",
    "Week 2 Step 6\n",
    "Week 3 Step 7\n",
    "\n",
    "Assumption: Every step of interest has the same number of questions."
   ]
  },
  {
   "cell_type": "code",
   "execution_count": 257,
   "metadata": {},
   "outputs": [
    {
     "data": {
      "text/html": [
       "<div>\n",
       "<style scoped>\n",
       "    .dataframe tbody tr th:only-of-type {\n",
       "        vertical-align: middle;\n",
       "    }\n",
       "\n",
       "    .dataframe tbody tr th {\n",
       "        vertical-align: top;\n",
       "    }\n",
       "\n",
       "    .dataframe thead th {\n",
       "        text-align: right;\n",
       "    }\n",
       "</style>\n",
       "<table border=\"1\" class=\"dataframe\">\n",
       "  <thead>\n",
       "    <tr style=\"text-align: right;\">\n",
       "      <th></th>\n",
       "      <th>learner_id</th>\n",
       "      <th>quiz_question</th>\n",
       "      <th>question_type</th>\n",
       "      <th>week_number</th>\n",
       "      <th>step_number</th>\n",
       "      <th>question_number</th>\n",
       "      <th>response</th>\n",
       "      <th>cloze_response</th>\n",
       "      <th>submitted_at</th>\n",
       "      <th>correct</th>\n",
       "    </tr>\n",
       "  </thead>\n",
       "  <tbody>\n",
       "    <tr>\n",
       "      <th>0</th>\n",
       "      <td>db8e8cc4-e611-478c-8fdd-f0c9e83e8f7d</td>\n",
       "      <td>1.14.1</td>\n",
       "      <td>MultipleChoice</td>\n",
       "      <td>1</td>\n",
       "      <td>14</td>\n",
       "      <td>1</td>\n",
       "      <td>2</td>\n",
       "      <td>NaN</td>\n",
       "      <td>2021-04-14 14:49:27+00:00</td>\n",
       "      <td>False</td>\n",
       "    </tr>\n",
       "    <tr>\n",
       "      <th>1</th>\n",
       "      <td>6042d8af-09cd-4966-b559-56a0bd66113a</td>\n",
       "      <td>1.14.1</td>\n",
       "      <td>MultipleChoice</td>\n",
       "      <td>1</td>\n",
       "      <td>14</td>\n",
       "      <td>1</td>\n",
       "      <td>3</td>\n",
       "      <td>NaN</td>\n",
       "      <td>2021-05-03 09:37:09+00:00</td>\n",
       "      <td>True</td>\n",
       "    </tr>\n",
       "    <tr>\n",
       "      <th>2</th>\n",
       "      <td>eadc3ad1-2f04-4dd8-97c4-94311516fd67</td>\n",
       "      <td>1.14.1</td>\n",
       "      <td>MultipleChoice</td>\n",
       "      <td>1</td>\n",
       "      <td>14</td>\n",
       "      <td>1</td>\n",
       "      <td>1</td>\n",
       "      <td>NaN</td>\n",
       "      <td>2021-05-03 12:23:26+00:00</td>\n",
       "      <td>False</td>\n",
       "    </tr>\n",
       "    <tr>\n",
       "      <th>3</th>\n",
       "      <td>eadc3ad1-2f04-4dd8-97c4-94311516fd67</td>\n",
       "      <td>1.14.1</td>\n",
       "      <td>MultipleChoice</td>\n",
       "      <td>1</td>\n",
       "      <td>14</td>\n",
       "      <td>1</td>\n",
       "      <td>2</td>\n",
       "      <td>NaN</td>\n",
       "      <td>2021-05-03 12:23:28+00:00</td>\n",
       "      <td>False</td>\n",
       "    </tr>\n",
       "    <tr>\n",
       "      <th>4</th>\n",
       "      <td>eadc3ad1-2f04-4dd8-97c4-94311516fd67</td>\n",
       "      <td>1.14.1</td>\n",
       "      <td>MultipleChoice</td>\n",
       "      <td>1</td>\n",
       "      <td>14</td>\n",
       "      <td>1</td>\n",
       "      <td>3</td>\n",
       "      <td>NaN</td>\n",
       "      <td>2021-05-03 12:23:31+00:00</td>\n",
       "      <td>True</td>\n",
       "    </tr>\n",
       "    <tr>\n",
       "      <th>...</th>\n",
       "      <td>...</td>\n",
       "      <td>...</td>\n",
       "      <td>...</td>\n",
       "      <td>...</td>\n",
       "      <td>...</td>\n",
       "      <td>...</td>\n",
       "      <td>...</td>\n",
       "      <td>...</td>\n",
       "      <td>...</td>\n",
       "      <td>...</td>\n",
       "    </tr>\n",
       "    <tr>\n",
       "      <th>2298</th>\n",
       "      <td>021f47d6-2cf6-425e-a517-52ffcff3bfd1</td>\n",
       "      <td>3.7.4</td>\n",
       "      <td>MultipleChoice</td>\n",
       "      <td>3</td>\n",
       "      <td>7</td>\n",
       "      <td>4</td>\n",
       "      <td>3</td>\n",
       "      <td>NaN</td>\n",
       "      <td>2021-06-29 18:15:10+00:00</td>\n",
       "      <td>True</td>\n",
       "    </tr>\n",
       "    <tr>\n",
       "      <th>2299</th>\n",
       "      <td>7b523a49-cd08-481b-842e-0a3eb272a9f8</td>\n",
       "      <td>3.7.4</td>\n",
       "      <td>MultipleChoice</td>\n",
       "      <td>3</td>\n",
       "      <td>7</td>\n",
       "      <td>4</td>\n",
       "      <td>2</td>\n",
       "      <td>NaN</td>\n",
       "      <td>2021-07-08 21:48:11+00:00</td>\n",
       "      <td>True</td>\n",
       "    </tr>\n",
       "    <tr>\n",
       "      <th>2300</th>\n",
       "      <td>6e7c96bb-04f7-4e5b-9ae4-3434bc69daec</td>\n",
       "      <td>3.7.4</td>\n",
       "      <td>MultipleChoice</td>\n",
       "      <td>3</td>\n",
       "      <td>7</td>\n",
       "      <td>4</td>\n",
       "      <td>3</td>\n",
       "      <td>NaN</td>\n",
       "      <td>2021-07-12 11:27:49+00:00</td>\n",
       "      <td>True</td>\n",
       "    </tr>\n",
       "    <tr>\n",
       "      <th>2301</th>\n",
       "      <td>4f94b1e4-895d-419a-aedc-5c3686c47533</td>\n",
       "      <td>3.7.4</td>\n",
       "      <td>MultipleChoice</td>\n",
       "      <td>3</td>\n",
       "      <td>7</td>\n",
       "      <td>4</td>\n",
       "      <td>4</td>\n",
       "      <td>NaN</td>\n",
       "      <td>2021-07-13 14:00:56+00:00</td>\n",
       "      <td>True</td>\n",
       "    </tr>\n",
       "    <tr>\n",
       "      <th>2302</th>\n",
       "      <td>9a3560b9-1d83-4112-95e7-38f1786714c3</td>\n",
       "      <td>3.7.4</td>\n",
       "      <td>MultipleChoice</td>\n",
       "      <td>3</td>\n",
       "      <td>7</td>\n",
       "      <td>4</td>\n",
       "      <td>3</td>\n",
       "      <td>NaN</td>\n",
       "      <td>2021-07-16 15:30:00+00:00</td>\n",
       "      <td>True</td>\n",
       "    </tr>\n",
       "  </tbody>\n",
       "</table>\n",
       "<p>2303 rows × 10 columns</p>\n",
       "</div>"
      ],
      "text/plain": [
       "                                learner_id quiz_question   question_type  \\\n",
       "0     db8e8cc4-e611-478c-8fdd-f0c9e83e8f7d        1.14.1  MultipleChoice   \n",
       "1     6042d8af-09cd-4966-b559-56a0bd66113a        1.14.1  MultipleChoice   \n",
       "2     eadc3ad1-2f04-4dd8-97c4-94311516fd67        1.14.1  MultipleChoice   \n",
       "3     eadc3ad1-2f04-4dd8-97c4-94311516fd67        1.14.1  MultipleChoice   \n",
       "4     eadc3ad1-2f04-4dd8-97c4-94311516fd67        1.14.1  MultipleChoice   \n",
       "...                                    ...           ...             ...   \n",
       "2298  021f47d6-2cf6-425e-a517-52ffcff3bfd1         3.7.4  MultipleChoice   \n",
       "2299  7b523a49-cd08-481b-842e-0a3eb272a9f8         3.7.4  MultipleChoice   \n",
       "2300  6e7c96bb-04f7-4e5b-9ae4-3434bc69daec         3.7.4  MultipleChoice   \n",
       "2301  4f94b1e4-895d-419a-aedc-5c3686c47533         3.7.4  MultipleChoice   \n",
       "2302  9a3560b9-1d83-4112-95e7-38f1786714c3         3.7.4  MultipleChoice   \n",
       "\n",
       "      week_number  step_number  question_number response  cloze_response  \\\n",
       "0               1           14                1        2             NaN   \n",
       "1               1           14                1        3             NaN   \n",
       "2               1           14                1        1             NaN   \n",
       "3               1           14                1        2             NaN   \n",
       "4               1           14                1        3             NaN   \n",
       "...           ...          ...              ...      ...             ...   \n",
       "2298            3            7                4        3             NaN   \n",
       "2299            3            7                4        2             NaN   \n",
       "2300            3            7                4        3             NaN   \n",
       "2301            3            7                4        4             NaN   \n",
       "2302            3            7                4        3             NaN   \n",
       "\n",
       "                  submitted_at  correct  \n",
       "0    2021-04-14 14:49:27+00:00    False  \n",
       "1    2021-05-03 09:37:09+00:00     True  \n",
       "2    2021-05-03 12:23:26+00:00    False  \n",
       "3    2021-05-03 12:23:28+00:00    False  \n",
       "4    2021-05-03 12:23:31+00:00     True  \n",
       "...                        ...      ...  \n",
       "2298 2021-06-29 18:15:10+00:00     True  \n",
       "2299 2021-07-08 21:48:11+00:00     True  \n",
       "2300 2021-07-12 11:27:49+00:00     True  \n",
       "2301 2021-07-13 14:00:56+00:00     True  \n",
       "2302 2021-07-16 15:30:00+00:00     True  \n",
       "\n",
       "[2303 rows x 10 columns]"
      ]
     },
     "execution_count": 257,
     "metadata": {},
     "output_type": "execute_result"
    }
   ],
   "source": [
    "# week.step.question (NOT week.question.step)\n",
    "w1 = response.quiz_question == '1.3.1'  # 1.1.3\n",
    "w2 = response.quiz_question == '2.6.2'\n",
    "w3 = response.quiz_question == '3.7.3'\n",
    "response"
   ]
  },
  {
   "cell_type": "code",
   "execution_count": 498,
   "metadata": {},
   "outputs": [
    {
     "data": {
      "text/plain": [
       "1404            3\n",
       "1405            1\n",
       "1406            5\n",
       "1407            4\n",
       "1408            2\n",
       "          ...    \n",
       "2019            5\n",
       "2020          3,4\n",
       "2021            3\n",
       "2022            3\n",
       "2023    1,2,3,4,5\n",
       "Name: response, Length: 620, dtype: object"
      ]
     },
     "execution_count": 498,
     "metadata": {},
     "output_type": "execute_result"
    }
   ],
   "source": [
    "response[(response['week_number'] == 1) & (response['step_number'] == 3)].response"
   ]
  },
  {
   "cell_type": "markdown",
   "metadata": {},
   "source": [
    "The `response` column is quite messy."
   ]
  },
  {
   "cell_type": "code",
   "execution_count": 258,
   "metadata": {},
   "outputs": [
    {
     "data": {
      "text/plain": [
       "array(['MultipleChoice'], dtype=object)"
      ]
     },
     "execution_count": 258,
     "metadata": {},
     "output_type": "execute_result"
    }
   ],
   "source": [
    "response.question_type.unique()"
   ]
  },
  {
   "cell_type": "markdown",
   "metadata": {},
   "source": [
    "The questions are multiple choice,\n",
    "sometimes people answer two things."
   ]
  },
  {
   "cell_type": "code",
   "execution_count": 256,
   "metadata": {},
   "outputs": [
    {
     "data": {
      "text/html": [
       "<div>\n",
       "<style scoped>\n",
       "    .dataframe tbody tr th:only-of-type {\n",
       "        vertical-align: middle;\n",
       "    }\n",
       "\n",
       "    .dataframe tbody tr th {\n",
       "        vertical-align: top;\n",
       "    }\n",
       "\n",
       "    .dataframe thead th {\n",
       "        text-align: right;\n",
       "    }\n",
       "</style>\n",
       "<table border=\"1\" class=\"dataframe\">\n",
       "  <thead>\n",
       "    <tr style=\"text-align: right;\">\n",
       "      <th></th>\n",
       "      <th>len</th>\n",
       "      <th>tuple</th>\n",
       "    </tr>\n",
       "    <tr>\n",
       "      <th>learner_id</th>\n",
       "      <th></th>\n",
       "      <th></th>\n",
       "    </tr>\n",
       "  </thead>\n",
       "  <tbody>\n",
       "    <tr>\n",
       "      <th>2ad1e766-3897-4bd2-a6ac-031ebcba79c9</th>\n",
       "      <td>2</td>\n",
       "      <td>(1, 5)</td>\n",
       "    </tr>\n",
       "    <tr>\n",
       "      <th>6528f04d-b76a-4e40-a526-bcaeeba92658</th>\n",
       "      <td>2</td>\n",
       "      <td>(2, 4)</td>\n",
       "    </tr>\n",
       "  </tbody>\n",
       "</table>\n",
       "</div>"
      ],
      "text/plain": [
       "                                      len   tuple\n",
       "learner_id                                       \n",
       "2ad1e766-3897-4bd2-a6ac-031ebcba79c9    2  (1, 5)\n",
       "6528f04d-b76a-4e40-a526-bcaeeba92658    2  (2, 4)"
      ]
     },
     "execution_count": 256,
     "metadata": {},
     "output_type": "execute_result"
    }
   ],
   "source": [
    "resp1 = response[w1].groupby('learner_id').aggregate([len, tuple])['response']\n",
    "resp1[resp1.len == 2]"
   ]
  },
  {
   "cell_type": "code",
   "execution_count": 300,
   "metadata": {},
   "outputs": [
    {
     "data": {
      "text/html": [
       "<div>\n",
       "<style scoped>\n",
       "    .dataframe tbody tr th:only-of-type {\n",
       "        vertical-align: middle;\n",
       "    }\n",
       "\n",
       "    .dataframe tbody tr th {\n",
       "        vertical-align: top;\n",
       "    }\n",
       "\n",
       "    .dataframe thead th {\n",
       "        text-align: right;\n",
       "    }\n",
       "</style>\n",
       "<table border=\"1\" class=\"dataframe\">\n",
       "  <thead>\n",
       "    <tr style=\"text-align: right;\">\n",
       "      <th></th>\n",
       "      <th>learner_id</th>\n",
       "      <th>quiz_question</th>\n",
       "      <th>response</th>\n",
       "    </tr>\n",
       "  </thead>\n",
       "  <tbody>\n",
       "    <tr>\n",
       "      <th>0</th>\n",
       "      <td>0022e782-f726-4682-9a91-adb8401df949</td>\n",
       "      <td>1.14.1</td>\n",
       "      <td>3.0</td>\n",
       "    </tr>\n",
       "    <tr>\n",
       "      <th>1</th>\n",
       "      <td>0022e782-f726-4682-9a91-adb8401df949</td>\n",
       "      <td>1.14.2</td>\n",
       "      <td>2.0</td>\n",
       "    </tr>\n",
       "    <tr>\n",
       "      <th>2</th>\n",
       "      <td>0022e782-f726-4682-9a91-adb8401df949</td>\n",
       "      <td>1.14.3</td>\n",
       "      <td>1.0</td>\n",
       "    </tr>\n",
       "    <tr>\n",
       "      <th>3</th>\n",
       "      <td>0022e782-f726-4682-9a91-adb8401df949</td>\n",
       "      <td>1.14.4</td>\n",
       "      <td>2.5</td>\n",
       "    </tr>\n",
       "    <tr>\n",
       "      <th>4</th>\n",
       "      <td>0022e782-f726-4682-9a91-adb8401df949</td>\n",
       "      <td>1.14.5</td>\n",
       "      <td>2.0</td>\n",
       "    </tr>\n",
       "    <tr>\n",
       "      <th>...</th>\n",
       "      <td>...</td>\n",
       "      <td>...</td>\n",
       "      <td>...</td>\n",
       "    </tr>\n",
       "    <tr>\n",
       "      <th>1585</th>\n",
       "      <td>fc5bdb5c-6626-41bd-af5b-9e94f953a93b</td>\n",
       "      <td>2.6.2</td>\n",
       "      <td>5.0</td>\n",
       "    </tr>\n",
       "    <tr>\n",
       "      <th>1586</th>\n",
       "      <td>fc5bdb5c-6626-41bd-af5b-9e94f953a93b</td>\n",
       "      <td>3.7.1</td>\n",
       "      <td>5.0</td>\n",
       "    </tr>\n",
       "    <tr>\n",
       "      <th>1587</th>\n",
       "      <td>fc5bdb5c-6626-41bd-af5b-9e94f953a93b</td>\n",
       "      <td>3.7.2</td>\n",
       "      <td>5.0</td>\n",
       "    </tr>\n",
       "    <tr>\n",
       "      <th>1588</th>\n",
       "      <td>fc5bdb5c-6626-41bd-af5b-9e94f953a93b</td>\n",
       "      <td>3.7.3</td>\n",
       "      <td>5.0</td>\n",
       "    </tr>\n",
       "    <tr>\n",
       "      <th>1589</th>\n",
       "      <td>fc5bdb5c-6626-41bd-af5b-9e94f953a93b</td>\n",
       "      <td>3.7.4</td>\n",
       "      <td>3.0</td>\n",
       "    </tr>\n",
       "  </tbody>\n",
       "</table>\n",
       "<p>1590 rows × 3 columns</p>\n",
       "</div>"
      ],
      "text/plain": [
       "                                learner_id quiz_question  response\n",
       "0     0022e782-f726-4682-9a91-adb8401df949        1.14.1       3.0\n",
       "1     0022e782-f726-4682-9a91-adb8401df949        1.14.2       2.0\n",
       "2     0022e782-f726-4682-9a91-adb8401df949        1.14.3       1.0\n",
       "3     0022e782-f726-4682-9a91-adb8401df949        1.14.4       2.5\n",
       "4     0022e782-f726-4682-9a91-adb8401df949        1.14.5       2.0\n",
       "...                                    ...           ...       ...\n",
       "1585  fc5bdb5c-6626-41bd-af5b-9e94f953a93b         2.6.2       5.0\n",
       "1586  fc5bdb5c-6626-41bd-af5b-9e94f953a93b         3.7.1       5.0\n",
       "1587  fc5bdb5c-6626-41bd-af5b-9e94f953a93b         3.7.2       5.0\n",
       "1588  fc5bdb5c-6626-41bd-af5b-9e94f953a93b         3.7.3       5.0\n",
       "1589  fc5bdb5c-6626-41bd-af5b-9e94f953a93b         3.7.4       3.0\n",
       "\n",
       "[1590 rows x 3 columns]"
      ]
     },
     "execution_count": 300,
     "metadata": {},
     "output_type": "execute_result"
    }
   ],
   "source": [
    "quiz = response[['learner_id', 'quiz_question', 'response']].copy()\n",
    "quiz.response = response.response.apply(lambda x: np.mean(list(map(int, x.split(',')))))\n",
    "quiz = quiz.groupby(['learner_id', 'quiz_question']).mean()\n",
    "quiz.reset_index(inplace=True)\n",
    "quiz"
   ]
  },
  {
   "cell_type": "code",
   "execution_count": 511,
   "metadata": {},
   "outputs": [],
   "source": [
    "w1 = quiz.quiz_question == '1.3.2'\n",
    "w2 = quiz.quiz_question == '2.6.2'\n",
    "w3 = quiz.quiz_question == '3.7.2'"
   ]
  },
  {
   "cell_type": "code",
   "execution_count": 494,
   "metadata": {},
   "outputs": [
    {
     "data": {
      "text/html": [
       "<div>\n",
       "<style scoped>\n",
       "    .dataframe tbody tr th:only-of-type {\n",
       "        vertical-align: middle;\n",
       "    }\n",
       "\n",
       "    .dataframe tbody tr th {\n",
       "        vertical-align: top;\n",
       "    }\n",
       "\n",
       "    .dataframe thead th {\n",
       "        text-align: right;\n",
       "    }\n",
       "</style>\n",
       "<table border=\"1\" class=\"dataframe\">\n",
       "  <thead>\n",
       "    <tr style=\"text-align: right;\">\n",
       "      <th></th>\n",
       "      <th>learner_id</th>\n",
       "      <th>quiz_question</th>\n",
       "      <th>response</th>\n",
       "    </tr>\n",
       "  </thead>\n",
       "  <tbody>\n",
       "    <tr>\n",
       "      <th>0</th>\n",
       "      <td>0022e782-f726-4682-9a91-adb8401df949</td>\n",
       "      <td>1.14.1</td>\n",
       "      <td>3.0</td>\n",
       "    </tr>\n",
       "    <tr>\n",
       "      <th>1</th>\n",
       "      <td>0022e782-f726-4682-9a91-adb8401df949</td>\n",
       "      <td>1.14.2</td>\n",
       "      <td>2.0</td>\n",
       "    </tr>\n",
       "    <tr>\n",
       "      <th>2</th>\n",
       "      <td>0022e782-f726-4682-9a91-adb8401df949</td>\n",
       "      <td>1.14.3</td>\n",
       "      <td>1.0</td>\n",
       "    </tr>\n",
       "    <tr>\n",
       "      <th>3</th>\n",
       "      <td>0022e782-f726-4682-9a91-adb8401df949</td>\n",
       "      <td>1.14.4</td>\n",
       "      <td>2.5</td>\n",
       "    </tr>\n",
       "    <tr>\n",
       "      <th>4</th>\n",
       "      <td>0022e782-f726-4682-9a91-adb8401df949</td>\n",
       "      <td>1.14.5</td>\n",
       "      <td>2.0</td>\n",
       "    </tr>\n",
       "    <tr>\n",
       "      <th>...</th>\n",
       "      <td>...</td>\n",
       "      <td>...</td>\n",
       "      <td>...</td>\n",
       "    </tr>\n",
       "    <tr>\n",
       "      <th>1585</th>\n",
       "      <td>fc5bdb5c-6626-41bd-af5b-9e94f953a93b</td>\n",
       "      <td>2.6.2</td>\n",
       "      <td>5.0</td>\n",
       "    </tr>\n",
       "    <tr>\n",
       "      <th>1586</th>\n",
       "      <td>fc5bdb5c-6626-41bd-af5b-9e94f953a93b</td>\n",
       "      <td>3.7.1</td>\n",
       "      <td>5.0</td>\n",
       "    </tr>\n",
       "    <tr>\n",
       "      <th>1587</th>\n",
       "      <td>fc5bdb5c-6626-41bd-af5b-9e94f953a93b</td>\n",
       "      <td>3.7.2</td>\n",
       "      <td>5.0</td>\n",
       "    </tr>\n",
       "    <tr>\n",
       "      <th>1588</th>\n",
       "      <td>fc5bdb5c-6626-41bd-af5b-9e94f953a93b</td>\n",
       "      <td>3.7.3</td>\n",
       "      <td>5.0</td>\n",
       "    </tr>\n",
       "    <tr>\n",
       "      <th>1589</th>\n",
       "      <td>fc5bdb5c-6626-41bd-af5b-9e94f953a93b</td>\n",
       "      <td>3.7.4</td>\n",
       "      <td>3.0</td>\n",
       "    </tr>\n",
       "  </tbody>\n",
       "</table>\n",
       "<p>1590 rows × 3 columns</p>\n",
       "</div>"
      ],
      "text/plain": [
       "                                learner_id quiz_question  response\n",
       "0     0022e782-f726-4682-9a91-adb8401df949        1.14.1       3.0\n",
       "1     0022e782-f726-4682-9a91-adb8401df949        1.14.2       2.0\n",
       "2     0022e782-f726-4682-9a91-adb8401df949        1.14.3       1.0\n",
       "3     0022e782-f726-4682-9a91-adb8401df949        1.14.4       2.5\n",
       "4     0022e782-f726-4682-9a91-adb8401df949        1.14.5       2.0\n",
       "...                                    ...           ...       ...\n",
       "1585  fc5bdb5c-6626-41bd-af5b-9e94f953a93b         2.6.2       5.0\n",
       "1586  fc5bdb5c-6626-41bd-af5b-9e94f953a93b         3.7.1       5.0\n",
       "1587  fc5bdb5c-6626-41bd-af5b-9e94f953a93b         3.7.2       5.0\n",
       "1588  fc5bdb5c-6626-41bd-af5b-9e94f953a93b         3.7.3       5.0\n",
       "1589  fc5bdb5c-6626-41bd-af5b-9e94f953a93b         3.7.4       3.0\n",
       "\n",
       "[1590 rows x 3 columns]"
      ]
     },
     "execution_count": 494,
     "metadata": {},
     "output_type": "execute_result"
    }
   ],
   "source": [
    "quiz"
   ]
  },
  {
   "cell_type": "code",
   "execution_count": 512,
   "metadata": {},
   "outputs": [
    {
     "data": {
      "image/png": "[encoded data removed]",
      "text/plain": [
       "<Figure size 1440x648 with 3 Axes>"
      ]
     },
     "metadata": {
      "needs_background": "light"
     },
     "output_type": "display_data"
    }
   ],
   "source": [
    "bins = int(quiz.response.max())\n",
    "\n",
    "fig, axs = plt.subplots(n, 1, sharex=True, sharey=True, figsize=(20, 9))\n",
    "\n",
    "qw1 = quiz[w1]\n",
    "qw2 = quiz[w2]\n",
    "qw3 = quiz[w3]\n",
    "\n",
    "axs.flat[0].hist(qw1.response, bins=bins, color='indigo')\n",
    "qtmp = pd.merge(qw1, qw2, on='learner_id', how='inner')\n",
    "axs.flat[0].hist(qtmp.response_x, bins=bins, color='seagreen')\n",
    "axs.flat[0].set_ylabel('week 1')\n",
    "\n",
    "axs.flat[1].hist(qw2.response, bins=bins, color='indigo')\n",
    "qtmp = pd.merge(qw2, qw3, on='learner_id', how='inner')\n",
    "axs.flat[1].hist(qtmp.response_x, bins=bins, color='seagreen')\n",
    "axs.flat[1].set_ylabel('week 2')\n",
    "\n",
    "axs.flat[2].hist(qw3.response, bins=bins, color='indigo')\n",
    "axs.flat[2].set_ylabel('week 3')\n",
    "\n",
    "fig.text(.09, .5, 'Number of Students', va='center', rotation='vertical')\n",
    "fig.text(.5, 0.05, 'Confidence', va='center')\n",
    "plt.subplots_adjust(hspace=0)"
   ]
  },
  {
   "cell_type": "markdown",
   "metadata": {},
   "source": [
    "## Graph 2\n",
    "\n",
    "General confidence across weeks.\n",
    "The difference between colors again shows how many students gave up on that week.\n",
    "The scales between the three graphs are the same,\n",
    "the height can be compared to account for the change in confidence.\n",
    "\n",
    "A fair hypothesis is to say that the positive change in confidence happens at the end of the MOOC.\n",
    "Students who did stay from week 1 to week 2 do not show a change in confidence.\n",
    "But the students that stayed from week 2 to week 3 show a shift to the right in several places\n",
    "between the tow graphs (week 2 green to week 3 indigo)."
   ]
  },
  {
   "cell_type": "markdown",
   "metadata": {},
   "source": [
    "---\n",
    "\n",
    "# Enrolled Students"
   ]
  },
  {
   "cell_type": "code",
   "execution_count": 514,
   "metadata": {},
   "outputs": [
    {
     "data": {
      "text/html": [
       "<div>\n",
       "<style scoped>\n",
       "    .dataframe tbody tr th:only-of-type {\n",
       "        vertical-align: middle;\n",
       "    }\n",
       "\n",
       "    .dataframe tbody tr th {\n",
       "        vertical-align: top;\n",
       "    }\n",
       "\n",
       "    .dataframe thead th {\n",
       "        text-align: right;\n",
       "    }\n",
       "</style>\n",
       "<table border=\"1\" class=\"dataframe\">\n",
       "  <thead>\n",
       "    <tr style=\"text-align: right;\">\n",
       "      <th></th>\n",
       "      <th>enrolled_at</th>\n",
       "      <th>unenrolled_at</th>\n",
       "      <th>role</th>\n",
       "      <th>fully_participated_at</th>\n",
       "      <th>purchased_statement_at</th>\n",
       "      <th>gender</th>\n",
       "      <th>country</th>\n",
       "      <th>age_range</th>\n",
       "      <th>highest_education_level</th>\n",
       "      <th>employment_status</th>\n",
       "      <th>...</th>\n",
       "      <th>unlimited</th>\n",
       "      <th>id</th>\n",
       "      <th>responded_at</th>\n",
       "      <th>archetype</th>\n",
       "      <th>quiz_question</th>\n",
       "      <th>response</th>\n",
       "      <th>quiz_question_2</th>\n",
       "      <th>response_2</th>\n",
       "      <th>quiz_question_3</th>\n",
       "      <th>response_3</th>\n",
       "    </tr>\n",
       "    <tr>\n",
       "      <th>learner_id</th>\n",
       "      <th></th>\n",
       "      <th></th>\n",
       "      <th></th>\n",
       "      <th></th>\n",
       "      <th></th>\n",
       "      <th></th>\n",
       "      <th></th>\n",
       "      <th></th>\n",
       "      <th></th>\n",
       "      <th></th>\n",
       "      <th></th>\n",
       "      <th></th>\n",
       "      <th></th>\n",
       "      <th></th>\n",
       "      <th></th>\n",
       "      <th></th>\n",
       "      <th></th>\n",
       "      <th></th>\n",
       "      <th></th>\n",
       "      <th></th>\n",
       "      <th></th>\n",
       "    </tr>\n",
       "  </thead>\n",
       "  <tbody>\n",
       "    <tr>\n",
       "      <th>47c2add2-a127-40db-ae0e-12d2725a1a9a</th>\n",
       "      <td>2021-04-08 01:58:43+00:00</td>\n",
       "      <td>NaN</td>\n",
       "      <td>NaN</td>\n",
       "      <td>NaT</td>\n",
       "      <td>NaN</td>\n",
       "      <td>Unknown</td>\n",
       "      <td>Unknown</td>\n",
       "      <td>Unknown</td>\n",
       "      <td>Unknown</td>\n",
       "      <td>Unknown</td>\n",
       "      <td>...</td>\n",
       "      <td>t</td>\n",
       "      <td>16725888.0</td>\n",
       "      <td>2021-04-08 02:04:11+00:00</td>\n",
       "      <td>Flourishers</td>\n",
       "      <td>NaN</td>\n",
       "      <td>NaN</td>\n",
       "      <td>NaN</td>\n",
       "      <td>NaN</td>\n",
       "      <td>NaN</td>\n",
       "      <td>NaN</td>\n",
       "    </tr>\n",
       "    <tr>\n",
       "      <th>09fcca1f-ff80-4c38-a81d-33efa02dd132</th>\n",
       "      <td>2021-05-01 09:11:12+00:00</td>\n",
       "      <td>NaN</td>\n",
       "      <td>NaN</td>\n",
       "      <td>2021-05-25 15:58:18+00:00</td>\n",
       "      <td>NaN</td>\n",
       "      <td>Unknown</td>\n",
       "      <td>Unknown</td>\n",
       "      <td>Unknown</td>\n",
       "      <td>Unknown</td>\n",
       "      <td>Unknown</td>\n",
       "      <td>...</td>\n",
       "      <td>f</td>\n",
       "      <td>NaN</td>\n",
       "      <td>NaT</td>\n",
       "      <td>NaN</td>\n",
       "      <td>1.3.2</td>\n",
       "      <td>4.0</td>\n",
       "      <td>2.6.2</td>\n",
       "      <td>4.0</td>\n",
       "      <td>3.7.2</td>\n",
       "      <td>4.0</td>\n",
       "    </tr>\n",
       "    <tr>\n",
       "      <th>6ba452a2-dc85-4891-ab10-8e4fe1fbe1e9</th>\n",
       "      <td>2021-05-05 11:55:31+00:00</td>\n",
       "      <td>NaN</td>\n",
       "      <td>NaN</td>\n",
       "      <td>NaT</td>\n",
       "      <td>NaN</td>\n",
       "      <td>female</td>\n",
       "      <td>AT</td>\n",
       "      <td>18-25</td>\n",
       "      <td>secondary</td>\n",
       "      <td>looking_for_work</td>\n",
       "      <td>...</td>\n",
       "      <td>t</td>\n",
       "      <td>NaN</td>\n",
       "      <td>NaT</td>\n",
       "      <td>NaN</td>\n",
       "      <td>NaN</td>\n",
       "      <td>NaN</td>\n",
       "      <td>NaN</td>\n",
       "      <td>NaN</td>\n",
       "      <td>NaN</td>\n",
       "      <td>NaN</td>\n",
       "    </tr>\n",
       "    <tr>\n",
       "      <th>f476dc3c-d2de-4b37-9289-fddf2b4db48c</th>\n",
       "      <td>2021-06-03 16:15:12+00:00</td>\n",
       "      <td>NaN</td>\n",
       "      <td>NaN</td>\n",
       "      <td>NaT</td>\n",
       "      <td>NaN</td>\n",
       "      <td>Unknown</td>\n",
       "      <td>Unknown</td>\n",
       "      <td>Unknown</td>\n",
       "      <td>Unknown</td>\n",
       "      <td>Unknown</td>\n",
       "      <td>...</td>\n",
       "      <td>f</td>\n",
       "      <td>NaN</td>\n",
       "      <td>NaT</td>\n",
       "      <td>NaN</td>\n",
       "      <td>NaN</td>\n",
       "      <td>NaN</td>\n",
       "      <td>NaN</td>\n",
       "      <td>NaN</td>\n",
       "      <td>NaN</td>\n",
       "      <td>NaN</td>\n",
       "    </tr>\n",
       "    <tr>\n",
       "      <th>d4744324-cd0a-47c8-a899-cdaa36262c38</th>\n",
       "      <td>2021-05-03 06:06:55+00:00</td>\n",
       "      <td>NaN</td>\n",
       "      <td>NaN</td>\n",
       "      <td>NaT</td>\n",
       "      <td>NaN</td>\n",
       "      <td>Unknown</td>\n",
       "      <td>Unknown</td>\n",
       "      <td>Unknown</td>\n",
       "      <td>Unknown</td>\n",
       "      <td>Unknown</td>\n",
       "      <td>...</td>\n",
       "      <td>f</td>\n",
       "      <td>NaN</td>\n",
       "      <td>NaT</td>\n",
       "      <td>NaN</td>\n",
       "      <td>1.3.2</td>\n",
       "      <td>1.0</td>\n",
       "      <td>NaN</td>\n",
       "      <td>NaN</td>\n",
       "      <td>NaN</td>\n",
       "      <td>NaN</td>\n",
       "    </tr>\n",
       "    <tr>\n",
       "      <th>...</th>\n",
       "      <td>...</td>\n",
       "      <td>...</td>\n",
       "      <td>...</td>\n",
       "      <td>...</td>\n",
       "      <td>...</td>\n",
       "      <td>...</td>\n",
       "      <td>...</td>\n",
       "      <td>...</td>\n",
       "      <td>...</td>\n",
       "      <td>...</td>\n",
       "      <td>...</td>\n",
       "      <td>...</td>\n",
       "      <td>...</td>\n",
       "      <td>...</td>\n",
       "      <td>...</td>\n",
       "      <td>...</td>\n",
       "      <td>...</td>\n",
       "      <td>...</td>\n",
       "      <td>...</td>\n",
       "      <td>...</td>\n",
       "      <td>...</td>\n",
       "    </tr>\n",
       "    <tr>\n",
       "      <th>5b83de6c-9dd1-4ebe-972e-d521cc573030</th>\n",
       "      <td>2021-05-05 14:59:22+00:00</td>\n",
       "      <td>NaN</td>\n",
       "      <td>NaN</td>\n",
       "      <td>NaT</td>\n",
       "      <td>NaN</td>\n",
       "      <td>Unknown</td>\n",
       "      <td>Unknown</td>\n",
       "      <td>Unknown</td>\n",
       "      <td>Unknown</td>\n",
       "      <td>Unknown</td>\n",
       "      <td>...</td>\n",
       "      <td>f</td>\n",
       "      <td>NaN</td>\n",
       "      <td>NaT</td>\n",
       "      <td>NaN</td>\n",
       "      <td>NaN</td>\n",
       "      <td>NaN</td>\n",
       "      <td>NaN</td>\n",
       "      <td>NaN</td>\n",
       "      <td>NaN</td>\n",
       "      <td>NaN</td>\n",
       "    </tr>\n",
       "    <tr>\n",
       "      <th>39bb487b-61db-4bf0-9cf2-e5be0d3f04da</th>\n",
       "      <td>2021-05-05 19:49:49+00:00</td>\n",
       "      <td>NaN</td>\n",
       "      <td>NaN</td>\n",
       "      <td>NaT</td>\n",
       "      <td>NaN</td>\n",
       "      <td>Unknown</td>\n",
       "      <td>Unknown</td>\n",
       "      <td>Unknown</td>\n",
       "      <td>Unknown</td>\n",
       "      <td>Unknown</td>\n",
       "      <td>...</td>\n",
       "      <td>f</td>\n",
       "      <td>NaN</td>\n",
       "      <td>NaT</td>\n",
       "      <td>NaN</td>\n",
       "      <td>NaN</td>\n",
       "      <td>NaN</td>\n",
       "      <td>NaN</td>\n",
       "      <td>NaN</td>\n",
       "      <td>NaN</td>\n",
       "      <td>NaN</td>\n",
       "    </tr>\n",
       "    <tr>\n",
       "      <th>56e5f12b-5e5b-4d59-95ae-1b2d22ace085</th>\n",
       "      <td>2021-04-28 10:58:13+00:00</td>\n",
       "      <td>NaN</td>\n",
       "      <td>NaN</td>\n",
       "      <td>NaT</td>\n",
       "      <td>NaN</td>\n",
       "      <td>Unknown</td>\n",
       "      <td>Unknown</td>\n",
       "      <td>Unknown</td>\n",
       "      <td>Unknown</td>\n",
       "      <td>Unknown</td>\n",
       "      <td>...</td>\n",
       "      <td>f</td>\n",
       "      <td>NaN</td>\n",
       "      <td>NaT</td>\n",
       "      <td>NaN</td>\n",
       "      <td>NaN</td>\n",
       "      <td>NaN</td>\n",
       "      <td>NaN</td>\n",
       "      <td>NaN</td>\n",
       "      <td>NaN</td>\n",
       "      <td>NaN</td>\n",
       "    </tr>\n",
       "    <tr>\n",
       "      <th>6fc79e02-a624-425b-b67f-a091912b3d15</th>\n",
       "      <td>2021-04-13 18:21:37+00:00</td>\n",
       "      <td>NaN</td>\n",
       "      <td>NaN</td>\n",
       "      <td>NaT</td>\n",
       "      <td>NaN</td>\n",
       "      <td>Unknown</td>\n",
       "      <td>Unknown</td>\n",
       "      <td>Unknown</td>\n",
       "      <td>Unknown</td>\n",
       "      <td>Unknown</td>\n",
       "      <td>...</td>\n",
       "      <td>f</td>\n",
       "      <td>NaN</td>\n",
       "      <td>NaT</td>\n",
       "      <td>NaN</td>\n",
       "      <td>NaN</td>\n",
       "      <td>NaN</td>\n",
       "      <td>NaN</td>\n",
       "      <td>NaN</td>\n",
       "      <td>NaN</td>\n",
       "      <td>NaN</td>\n",
       "    </tr>\n",
       "    <tr>\n",
       "      <th>8e6076bc-9c58-4670-a58e-e2c4334b0967</th>\n",
       "      <td>2021-05-05 02:03:09+00:00</td>\n",
       "      <td>NaN</td>\n",
       "      <td>NaN</td>\n",
       "      <td>2021-05-05 03:04:36+00:00</td>\n",
       "      <td>NaN</td>\n",
       "      <td>Unknown</td>\n",
       "      <td>Unknown</td>\n",
       "      <td>Unknown</td>\n",
       "      <td>Unknown</td>\n",
       "      <td>Unknown</td>\n",
       "      <td>...</td>\n",
       "      <td>f</td>\n",
       "      <td>NaN</td>\n",
       "      <td>NaT</td>\n",
       "      <td>NaN</td>\n",
       "      <td>1.3.2</td>\n",
       "      <td>3.0</td>\n",
       "      <td>2.6.2</td>\n",
       "      <td>3.0</td>\n",
       "      <td>3.7.2</td>\n",
       "      <td>3.0</td>\n",
       "    </tr>\n",
       "  </tbody>\n",
       "</table>\n",
       "<p>386 rows × 22 columns</p>\n",
       "</div>"
      ],
      "text/plain": [
       "                                                   enrolled_at unenrolled_at  \\\n",
       "learner_id                                                                     \n",
       "47c2add2-a127-40db-ae0e-12d2725a1a9a 2021-04-08 01:58:43+00:00           NaN   \n",
       "09fcca1f-ff80-4c38-a81d-33efa02dd132 2021-05-01 09:11:12+00:00           NaN   \n",
       "6ba452a2-dc85-4891-ab10-8e4fe1fbe1e9 2021-05-05 11:55:31+00:00           NaN   \n",
       "f476dc3c-d2de-4b37-9289-fddf2b4db48c 2021-06-03 16:15:12+00:00           NaN   \n",
       "d4744324-cd0a-47c8-a899-cdaa36262c38 2021-05-03 06:06:55+00:00           NaN   \n",
       "...                                                        ...           ...   \n",
       "5b83de6c-9dd1-4ebe-972e-d521cc573030 2021-05-05 14:59:22+00:00           NaN   \n",
       "39bb487b-61db-4bf0-9cf2-e5be0d3f04da 2021-05-05 19:49:49+00:00           NaN   \n",
       "56e5f12b-5e5b-4d59-95ae-1b2d22ace085 2021-04-28 10:58:13+00:00           NaN   \n",
       "6fc79e02-a624-425b-b67f-a091912b3d15 2021-04-13 18:21:37+00:00           NaN   \n",
       "8e6076bc-9c58-4670-a58e-e2c4334b0967 2021-05-05 02:03:09+00:00           NaN   \n",
       "\n",
       "                                     role     fully_participated_at  \\\n",
       "learner_id                                                            \n",
       "47c2add2-a127-40db-ae0e-12d2725a1a9a  NaN                       NaT   \n",
       "09fcca1f-ff80-4c38-a81d-33efa02dd132  NaN 2021-05-25 15:58:18+00:00   \n",
       "6ba452a2-dc85-4891-ab10-8e4fe1fbe1e9  NaN                       NaT   \n",
       "f476dc3c-d2de-4b37-9289-fddf2b4db48c  NaN                       NaT   \n",
       "d4744324-cd0a-47c8-a899-cdaa36262c38  NaN                       NaT   \n",
       "...                                   ...                       ...   \n",
       "5b83de6c-9dd1-4ebe-972e-d521cc573030  NaN                       NaT   \n",
       "39bb487b-61db-4bf0-9cf2-e5be0d3f04da  NaN                       NaT   \n",
       "56e5f12b-5e5b-4d59-95ae-1b2d22ace085  NaN                       NaT   \n",
       "6fc79e02-a624-425b-b67f-a091912b3d15  NaN                       NaT   \n",
       "8e6076bc-9c58-4670-a58e-e2c4334b0967  NaN 2021-05-05 03:04:36+00:00   \n",
       "\n",
       "                                     purchased_statement_at   gender  country  \\\n",
       "learner_id                                                                      \n",
       "47c2add2-a127-40db-ae0e-12d2725a1a9a                    NaN  Unknown  Unknown   \n",
       "09fcca1f-ff80-4c38-a81d-33efa02dd132                    NaN  Unknown  Unknown   \n",
       "6ba452a2-dc85-4891-ab10-8e4fe1fbe1e9                    NaN   female       AT   \n",
       "f476dc3c-d2de-4b37-9289-fddf2b4db48c                    NaN  Unknown  Unknown   \n",
       "d4744324-cd0a-47c8-a899-cdaa36262c38                    NaN  Unknown  Unknown   \n",
       "...                                                     ...      ...      ...   \n",
       "5b83de6c-9dd1-4ebe-972e-d521cc573030                    NaN  Unknown  Unknown   \n",
       "39bb487b-61db-4bf0-9cf2-e5be0d3f04da                    NaN  Unknown  Unknown   \n",
       "56e5f12b-5e5b-4d59-95ae-1b2d22ace085                    NaN  Unknown  Unknown   \n",
       "6fc79e02-a624-425b-b67f-a091912b3d15                    NaN  Unknown  Unknown   \n",
       "8e6076bc-9c58-4670-a58e-e2c4334b0967                    NaN  Unknown  Unknown   \n",
       "\n",
       "                                     age_range highest_education_level  \\\n",
       "learner_id                                                               \n",
       "47c2add2-a127-40db-ae0e-12d2725a1a9a   Unknown                 Unknown   \n",
       "09fcca1f-ff80-4c38-a81d-33efa02dd132   Unknown                 Unknown   \n",
       "6ba452a2-dc85-4891-ab10-8e4fe1fbe1e9     18-25               secondary   \n",
       "f476dc3c-d2de-4b37-9289-fddf2b4db48c   Unknown                 Unknown   \n",
       "d4744324-cd0a-47c8-a899-cdaa36262c38   Unknown                 Unknown   \n",
       "...                                        ...                     ...   \n",
       "5b83de6c-9dd1-4ebe-972e-d521cc573030   Unknown                 Unknown   \n",
       "39bb487b-61db-4bf0-9cf2-e5be0d3f04da   Unknown                 Unknown   \n",
       "56e5f12b-5e5b-4d59-95ae-1b2d22ace085   Unknown                 Unknown   \n",
       "6fc79e02-a624-425b-b67f-a091912b3d15   Unknown                 Unknown   \n",
       "8e6076bc-9c58-4670-a58e-e2c4334b0967   Unknown                 Unknown   \n",
       "\n",
       "                                     employment_status  ... unlimited  \\\n",
       "learner_id                                              ...             \n",
       "47c2add2-a127-40db-ae0e-12d2725a1a9a           Unknown  ...         t   \n",
       "09fcca1f-ff80-4c38-a81d-33efa02dd132           Unknown  ...         f   \n",
       "6ba452a2-dc85-4891-ab10-8e4fe1fbe1e9  looking_for_work  ...         t   \n",
       "f476dc3c-d2de-4b37-9289-fddf2b4db48c           Unknown  ...         f   \n",
       "d4744324-cd0a-47c8-a899-cdaa36262c38           Unknown  ...         f   \n",
       "...                                                ...  ...       ...   \n",
       "5b83de6c-9dd1-4ebe-972e-d521cc573030           Unknown  ...         f   \n",
       "39bb487b-61db-4bf0-9cf2-e5be0d3f04da           Unknown  ...         f   \n",
       "56e5f12b-5e5b-4d59-95ae-1b2d22ace085           Unknown  ...         f   \n",
       "6fc79e02-a624-425b-b67f-a091912b3d15           Unknown  ...         f   \n",
       "8e6076bc-9c58-4670-a58e-e2c4334b0967           Unknown  ...         f   \n",
       "\n",
       "                                              id              responded_at  \\\n",
       "learner_id                                                                   \n",
       "47c2add2-a127-40db-ae0e-12d2725a1a9a  16725888.0 2021-04-08 02:04:11+00:00   \n",
       "09fcca1f-ff80-4c38-a81d-33efa02dd132         NaN                       NaT   \n",
       "6ba452a2-dc85-4891-ab10-8e4fe1fbe1e9         NaN                       NaT   \n",
       "f476dc3c-d2de-4b37-9289-fddf2b4db48c         NaN                       NaT   \n",
       "d4744324-cd0a-47c8-a899-cdaa36262c38         NaN                       NaT   \n",
       "...                                          ...                       ...   \n",
       "5b83de6c-9dd1-4ebe-972e-d521cc573030         NaN                       NaT   \n",
       "39bb487b-61db-4bf0-9cf2-e5be0d3f04da         NaN                       NaT   \n",
       "56e5f12b-5e5b-4d59-95ae-1b2d22ace085         NaN                       NaT   \n",
       "6fc79e02-a624-425b-b67f-a091912b3d15         NaN                       NaT   \n",
       "8e6076bc-9c58-4670-a58e-e2c4334b0967         NaN                       NaT   \n",
       "\n",
       "                                        archetype quiz_question response  \\\n",
       "learner_id                                                                 \n",
       "47c2add2-a127-40db-ae0e-12d2725a1a9a  Flourishers           NaN      NaN   \n",
       "09fcca1f-ff80-4c38-a81d-33efa02dd132          NaN         1.3.2      4.0   \n",
       "6ba452a2-dc85-4891-ab10-8e4fe1fbe1e9          NaN           NaN      NaN   \n",
       "f476dc3c-d2de-4b37-9289-fddf2b4db48c          NaN           NaN      NaN   \n",
       "d4744324-cd0a-47c8-a899-cdaa36262c38          NaN         1.3.2      1.0   \n",
       "...                                           ...           ...      ...   \n",
       "5b83de6c-9dd1-4ebe-972e-d521cc573030          NaN           NaN      NaN   \n",
       "39bb487b-61db-4bf0-9cf2-e5be0d3f04da          NaN           NaN      NaN   \n",
       "56e5f12b-5e5b-4d59-95ae-1b2d22ace085          NaN           NaN      NaN   \n",
       "6fc79e02-a624-425b-b67f-a091912b3d15          NaN           NaN      NaN   \n",
       "8e6076bc-9c58-4670-a58e-e2c4334b0967          NaN         1.3.2      3.0   \n",
       "\n",
       "                                     quiz_question_2  response_2  \\\n",
       "learner_id                                                         \n",
       "47c2add2-a127-40db-ae0e-12d2725a1a9a             NaN         NaN   \n",
       "09fcca1f-ff80-4c38-a81d-33efa02dd132           2.6.2         4.0   \n",
       "6ba452a2-dc85-4891-ab10-8e4fe1fbe1e9             NaN         NaN   \n",
       "f476dc3c-d2de-4b37-9289-fddf2b4db48c             NaN         NaN   \n",
       "d4744324-cd0a-47c8-a899-cdaa36262c38             NaN         NaN   \n",
       "...                                              ...         ...   \n",
       "5b83de6c-9dd1-4ebe-972e-d521cc573030             NaN         NaN   \n",
       "39bb487b-61db-4bf0-9cf2-e5be0d3f04da             NaN         NaN   \n",
       "56e5f12b-5e5b-4d59-95ae-1b2d22ace085             NaN         NaN   \n",
       "6fc79e02-a624-425b-b67f-a091912b3d15             NaN         NaN   \n",
       "8e6076bc-9c58-4670-a58e-e2c4334b0967           2.6.2         3.0   \n",
       "\n",
       "                                     quiz_question_3  response_3  \n",
       "learner_id                                                        \n",
       "47c2add2-a127-40db-ae0e-12d2725a1a9a             NaN         NaN  \n",
       "09fcca1f-ff80-4c38-a81d-33efa02dd132           3.7.2         4.0  \n",
       "6ba452a2-dc85-4891-ab10-8e4fe1fbe1e9             NaN         NaN  \n",
       "f476dc3c-d2de-4b37-9289-fddf2b4db48c             NaN         NaN  \n",
       "d4744324-cd0a-47c8-a899-cdaa36262c38             NaN         NaN  \n",
       "...                                              ...         ...  \n",
       "5b83de6c-9dd1-4ebe-972e-d521cc573030             NaN         NaN  \n",
       "39bb487b-61db-4bf0-9cf2-e5be0d3f04da             NaN         NaN  \n",
       "56e5f12b-5e5b-4d59-95ae-1b2d22ace085             NaN         NaN  \n",
       "6fc79e02-a624-425b-b67f-a091912b3d15             NaN         NaN  \n",
       "8e6076bc-9c58-4670-a58e-e2c4334b0967           3.7.2         3.0  \n",
       "\n",
       "[386 rows x 22 columns]"
      ]
     },
     "execution_count": 514,
     "metadata": {},
     "output_type": "execute_result"
    }
   ],
   "source": [
    "student = enrol.join(archetype)\n",
    "student = student.join(qw1.set_index('learner_id'))  # dirty\n",
    "student = student.join(qw2.set_index('learner_id'), rsuffix='_2')\n",
    "student = student.join(qw3.set_index('learner_id'), rsuffix='_3')\n",
    "student"
   ]
  },
  {
   "cell_type": "code",
   "execution_count": 560,
   "metadata": {},
   "outputs": [],
   "source": [
    "def plot_confidence(series, label, ax, scale=2000):\n",
    "    position =  sorted(series.dropna().unique())\n",
    "    size = series.value_counts().sort_index()\n",
    "    if not len(size):\n",
    "        return 0  # bail!\n",
    "    norm = size / max(size)\n",
    "    ax.scatter([label]*len(position), position, s=norm*scale, c=size, cmap='plasma') #, zorder=3)\n",
    "    return 1"
   ]
  },
  {
   "cell_type": "code",
   "execution_count": 604,
   "metadata": {},
   "outputs": [
    {
     "data": {
      "text/plain": [
       "array([0.9510189 , 0.50159588, 0.50245519, 0.51644979, 0.52848024])"
      ]
     },
     "execution_count": 604,
     "metadata": {},
     "output_type": "execute_result"
    }
   ],
   "source": [
    "## Transparency Scales\n",
    "\n",
    "data = np.array([3674, 13, 20, 134, 232])\n",
    "data / (data.sum() * 2) + .5"
   ]
  },
  {
   "cell_type": "code",
   "execution_count": 624,
   "metadata": {},
   "outputs": [],
   "source": [
    "def half_violin(x, y, *args, ax=None, left=False, mean=None, meadian=None, color=None, alpha=None, **kwargs):\n",
    "    # force a clean plot so we can add these manualy\n",
    "    kwargs['showmeans'] = False\n",
    "    kwargs['showextrema'] = False\n",
    "    kwargs['showmedians'] = False\n",
    "    params = ax.violinplot(x, y, *args, **kwargs)\n",
    "    for b in params['bodies']:\n",
    "        if not b.get_paths():  # empty graph - violinplots do not work well with missing data\n",
    "            continue\n",
    "        # get the center\n",
    "        m = np.mean(b.get_paths()[0].vertices[:, 0])\n",
    "        clips = [m, np.inf]\n",
    "        if left:\n",
    "            clips = [-np.inf, m]\n",
    "        # modify the paths to not go further right than the center\n",
    "        b.get_paths()[0].vertices[:, 0] = np.clip(b.get_paths()[0].vertices[:, 0], *clips)\n",
    "        if color:\n",
    "            b.set_color(color) \n",
    "        if alpha:\n",
    "            b.set_alpha(alpha)\n",
    "\n",
    "\n",
    "def double_violin(xl, xr, y, *args, ax=None, color_left=None, color_right=None, **kwargs):\n",
    "    half_violin(xl, y, *args, ax=ax, left=True, color=color_left, **kwargs)\n",
    "    half_violin(xr, y, *args, ax=ax, left=True, color=color_right, **kwargs)\n",
    "\n",
    "\n",
    "def join_plot(from_, to_, left, right, on='student_id')"
   ]
  },
  {
   "cell_type": "code",
   "execution_count": null,
   "metadata": {},
   "outputs": [],
   "source": [
    "join_plot(enrol, [qw1, qw2, qw3], 'employment_status', 'response')"
   ]
  },
  {
   "cell_type": "code",
   "execution_count": 626,
   "metadata": {},
   "outputs": [
    {
     "data": {
      "text/plain": [
       "learner_id\n",
       "09fcca1f-ff80-4c38-a81d-33efa02dd132    4.0\n",
       "d4744324-cd0a-47c8-a899-cdaa36262c38    1.0\n",
       "77ac1dde-421b-4e32-b65b-f70facc6024b    5.0\n",
       "b460ed89-2292-4558-b242-06721776daa2    3.0\n",
       "d2227e53-d3f2-4ad2-8ea8-b36dd5b0bccd    5.0\n",
       "                                       ... \n",
       "c59fdfde-f22b-4716-bd4e-17894a849be0    5.0\n",
       "c94ff9bc-cb34-419b-80ae-8f01cb66217b    4.0\n",
       "6ea6bf72-98df-472d-8b0e-f7d246acb106    1.0\n",
       "72a7814e-dbff-46ab-a78f-77d96870e3b5    2.0\n",
       "8e6076bc-9c58-4670-a58e-e2c4334b0967    3.0\n",
       "Name: response, Length: 102, dtype: float64"
      ]
     },
     "execution_count": 626,
     "metadata": {},
     "output_type": "execute_result"
    },
    {
     "data": {
      "image/png": "[encoded data removed]",
      "text/plain": [
       "<Figure size 1440x720 with 1 Axes>"
      ]
     },
     "metadata": {
      "needs_background": "light"
     },
     "output_type": "display_data"
    }
   ],
   "source": [
    "fig, ax = plt.subplots(figsize=(20, 10))\n",
    "\n",
    "dataset = [\n",
    "    student['response'].dropna(),\n",
    "    student['response_2'].dropna(),\n",
    "    student['response_3'].dropna(),\n",
    "]\n",
    "data = [\n",
    "    student['response_2'].dropna(),\n",
    "    student['response_3'].dropna(),\n",
    "    student['response'].dropna(),\n",
    "]\n",
    "# The colors complement each other well within .9 - .5 alpha\n",
    "half_violin(dataset, [1, 2, 3], ax=ax, left=True, color='khaki', alpha=.7)\n",
    "half_violin(data, [1, 2, 3], ax=ax, color='orchid', alpha=.7)\n",
    "half_violin(dataset, [5, 6, 7], ax=ax, left=True, color='khaki', alpha=.7)\n",
    "half_violin(data, [5, 6, 7], ax=ax, color='orchid', alpha=.7)\n",
    "student['response'].dropna()"
   ]
  },
  {
   "cell_type": "code",
   "execution_count": 562,
   "metadata": {},
   "outputs": [
    {
     "name": "stdout",
     "output_type": "stream",
     "text": [
      "386\n"
     ]
    },
    {
     "data": {
      "image/png": "[encoded data removed]",
      "text/plain": [
       "<Figure size 1440x720 with 1 Axes>"
      ]
     },
     "metadata": {
      "needs_background": "light"
     },
     "output_type": "display_data"
    }
   ],
   "source": [
    "fig, ax = plt.subplots(figsize=(20, 10))\n",
    "\n",
    "plot_confidence(student['response'], label=1, ax=ax)\n",
    "plot_confidence(student['response_2'], label=2, ax=ax)\n",
    "plot_confidence(student['response_3'], label=3, ax=ax)\n",
    "\n",
    "rsps = ['response', 'response_2', 'response_3']\n",
    "mean = student[rsps].mean()\n",
    "std = student[rsps].std()\n",
    "ax.plot([1, 2, 3], mean, ':', color='crimson')\n",
    "ax.fill_between([1, 2, 3], mean+std, mean-std, color='gray', alpha=0.2, zorder=.5)\n",
    "\n",
    "ax.set_xticks([1, 2, 3])\n",
    "ax.set_xticklabels(['week 1', 'week 2', 'week 3']);\n",
    "print(len(student))"
   ]
  },
  {
   "cell_type": "code",
   "execution_count": 467,
   "metadata": {},
   "outputs": [
    {
     "name": "stdout",
     "output_type": "stream",
     "text": [
      "48\n"
     ]
    },
    {
     "data": {
      "image/png": "[encoded data removed]",
      "text/plain": [
       "<Figure size 1440x720 with 1 Axes>"
      ]
     },
     "metadata": {
      "needs_background": "light"
     },
     "output_type": "display_data"
    }
   ],
   "source": [
    "rsps = ['response', 'response_2', 'response_3']\n",
    "complete = student[rsps].dropna()\n",
    "\n",
    "fig, ax = plt.subplots(figsize=(20, 10))\n",
    "\n",
    "plot_confidence(complete['response'], label=1, ax=ax)\n",
    "plot_confidence(complete['response_2'], label=2, ax=ax)\n",
    "plot_confidence(complete['response_3'], label=3, ax=ax)\n",
    "\n",
    "mean = complete.mean()\n",
    "std = complete.std()\n",
    "ax.plot([1, 2, 3], mean, ':', color='crimson')\n",
    "ax.fill_between([1, 2, 3], mean+std, mean-std, color='gray', alpha=0.2)\n",
    "\n",
    "ax.set_xticks([1, 2, 3])\n",
    "ax.set_xticklabels(['week 1', 'week 2', 'week 3']);\n",
    "print(len(complete))"
   ]
  },
  {
   "cell_type": "markdown",
   "metadata": {},
   "source": [
    "All student's answers, in a generic comparison.\n",
    "This graph is the same one as the histogram in graph 2\n",
    "but it is vertical instead of a horizontal histogram.\n",
    "\n",
    "It is a generic enough plot that allows us to input any filter\n",
    "we may want for the students."
   ]
  },
  {
   "cell_type": "code",
   "execution_count": 398,
   "metadata": {},
   "outputs": [
    {
     "data": {
      "text/plain": [
       "Index(['enrolled_at', 'unenrolled_at', 'role', 'fully_participated_at',\n",
       "       'purchased_statement_at', 'gender', 'country', 'age_range',\n",
       "       'highest_education_level', 'employment_status', 'employment_area',\n",
       "       'detected_country', 'unlimited', 'id', 'responded_at', 'archetype',\n",
       "       'quiz_question', 'response', 'quiz_question_2', 'response_2',\n",
       "       'quiz_question_3', 'response_3'],\n",
       "      dtype='object')"
      ]
     },
     "execution_count": 398,
     "metadata": {},
     "output_type": "execute_result"
    }
   ],
   "source": [
    "student.columns"
   ]
  },
  {
   "cell_type": "code",
   "execution_count": 401,
   "metadata": {},
   "outputs": [
    {
     "data": {
      "text/plain": [
       "Unknown              330\n",
       "working_full_time     18\n",
       "looking_for_work      12\n",
       "self_employed          8\n",
       "working_part_time      6\n",
       "unemployed             4\n",
       "full_time_student      4\n",
       "retired                3\n",
       "not_working            1\n",
       "Name: employment_status, dtype: int64"
      ]
     },
     "execution_count": 401,
     "metadata": {},
     "output_type": "execute_result"
    }
   ],
   "source": [
    "student['employment_status'].value_counts()"
   ]
  },
  {
   "cell_type": "code",
   "execution_count": 416,
   "metadata": {},
   "outputs": [
    {
     "name": "stdout",
     "output_type": "stream",
     "text": [
      "Unknown\n",
      "working_full_time\n",
      "looking_for_work\n",
      "self_employed\n",
      "working_part_time\n",
      "unemployed\n",
      "full_time_student\n",
      "retired\n",
      "not_working\n"
     ]
    }
   ],
   "source": [
    "for estat in student['employment_status'].value_counts().index:\n",
    "    print(estat)"
   ]
  },
  {
   "cell_type": "code",
   "execution_count": 519,
   "metadata": {},
   "outputs": [
    {
     "data": {
      "image/png": "[encoded data removed]",
      "text/plain": [
       "<Figure size 1440x720 with 1 Axes>"
      ]
     },
     "metadata": {
      "needs_background": "light"
     },
     "output_type": "display_data"
    }
   ],
   "source": [
    "fig, ax = plt.subplots(figsize=(20, 10))\n",
    "\n",
    "ticks = []\n",
    "labels = []\n",
    "for label, estat in enumerate(student['employment_status'].value_counts().index):\n",
    "    if estat == 'Unknown':\n",
    "        continue\n",
    "    tmp = student[student['employment_status'] == estat]\n",
    "    plotted = 0\n",
    "    plotted += plot_confidence(tmp['response'], label=label, ax=ax)\n",
    "    plotted += plot_confidence(tmp['response_2'], label=label + .2, ax=ax)\n",
    "    plotted += plot_confidence(tmp['response_3'], label=label + .4, ax=ax)\n",
    "    if plotted:\n",
    "        ticks += [label, label+.2, label+.4]\n",
    "        labels += [f'{estat} week 1', f'{estat} week 2', f'{estat} week 3']\n",
    "\n",
    "ax.set_xticks(ticks)\n",
    "ax.set_xticklabels(labels, rotation=45, ha='right')\n",
    "ax.set_ylabel('Confidence')\n",
    "ax.set_xlabel('Employment Status');"
   ]
  },
  {
   "cell_type": "markdown",
   "metadata": {},
   "source": [
    "## Graph 3\n",
    "\n",
    "Example of comparison graph.\n",
    "Each vertical grouping is a distribution of answers by students in the label group.\n",
    "Groups are always placed together for the three weeks of answers\n",
    "and split (by a larger spacing between the label groups).\n",
    "The ball sizes are normalized within the groups,\n",
    "in this way we can compare the scatter sizes to get information about a single\n",
    "label group behaviour (here employment status).\n",
    "The colors are not normalized and represent the sizes of the groups.\n",
    "Brighter colors (towards yellow) are the biggest groupings, here \"Unknown\".\n",
    "Label groups with bright colors have good sample sizes,\n",
    "whilst dull dark blue label groups have meaningless sample sizes.\n",
    "\n",
    "This graph method can be reasonably easily reused.  For example, highest education level."
   ]
  },
  {
   "cell_type": "code",
   "execution_count": null,
   "metadata": {},
   "outputs": [],
   "source": [
    "plot_confidence(student, 'age_group')"
   ]
  },
  {
   "cell_type": "code",
   "execution_count": 447,
   "metadata": {},
   "outputs": [
    {
     "data": {
      "text/plain": [
       "Unknown                 330\n",
       "university_degree        28\n",
       "university_masters       15\n",
       "tertiary                  6\n",
       "university_doctorate      4\n",
       "secondary                 3\n",
       "Name: highest_education_level, dtype: int64"
      ]
     },
     "execution_count": 447,
     "metadata": {},
     "output_type": "execute_result"
    }
   ],
   "source": [
    "student['highest_education_level'].value_counts()"
   ]
  },
  {
   "cell_type": "code",
   "execution_count": 520,
   "metadata": {},
   "outputs": [
    {
     "data": {
      "image/png": "[encoded data removed]",
      "text/plain": [
       "<Figure size 1440x720 with 1 Axes>"
      ]
     },
     "metadata": {
      "needs_background": "light"
     },
     "output_type": "display_data"
    }
   ],
   "source": [
    "fig, ax = plt.subplots(figsize=(20, 10))\n",
    "\n",
    "ticks = []\n",
    "labels = []\n",
    "for label, estat in enumerate(student['highest_education_level'].value_counts().index):\n",
    "    tmp = student[student['highest_education_level'] == estat]\n",
    "    plotted = 0\n",
    "    plotted += plot_confidence(tmp['response'], label=label, ax=ax)\n",
    "    plotted += plot_confidence(tmp['response_2'], label=label + .2, ax=ax)\n",
    "    plotted += plot_confidence(tmp['response_3'], label=label + .4, ax=ax)\n",
    "    if plotted:\n",
    "        ticks += [label, label+.2, label+.4]\n",
    "        labels += [f'{estat} week 1', f'{estat} week 2', f'{estat} week 3']\n",
    "\n",
    "ax.set_xticks(ticks)\n",
    "ax.set_xticklabels(labels, rotation=45, ha='right')\n",
    "ax.set_ylabel('Confidence')\n",
    "ax.set_xlabel('Highest Education Level');"
   ]
  },
  {
   "cell_type": "markdown",
   "metadata": {},
   "source": [
    "Scatter plots have the advantage of allowing one to see four dimensions at one:\n",
    "comparison of two dimensions, plus size and color."
   ]
  },
  {
   "cell_type": "markdown",
   "metadata": {},
   "source": [
    "Instead of **confidence** scale by **number of steps started**."
   ]
  },
  {
   "cell_type": "code",
   "execution_count": null,
   "metadata": {},
   "outputs": [],
   "source": []
  }
 ],
 "metadata": {
  "kernelspec": {
   "display_name": "Python 3",
   "language": "python",
   "name": "python3"
  },
  "language_info": {
   "codemirror_mode": {
    "name": "ipython",
    "version": 3
   },
   "file_extension": ".py",
   "mimetype": "text/x-python",
   "name": "python",
   "nbconvert_exporter": "python",
   "pygments_lexer": "ipython3",
   "version": "3.7.6"
  }
 },
 "nbformat": 4,
 "nbformat_minor": 4
}
